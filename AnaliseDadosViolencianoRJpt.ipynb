{
  "nbformat": 4,
  "nbformat_minor": 0,
  "metadata": {
    "colab": {
      "name": "AnaliseDadosViolencianoRJpt",
      "provenance": [],
      "collapsed_sections": [],
      "toc_visible": true,
      "authorship_tag": "ABX9TyNrAEqVk1M34LXB83lRIcgL",
      "include_colab_link": true
    },
    "kernelspec": {
      "name": "python3",
      "display_name": "Python 3"
    }
  },
  "cells": [
    {
      "cell_type": "markdown",
      "metadata": {
        "id": "view-in-github",
        "colab_type": "text"
      },
      "source": [
        "<a href=\"https://colab.research.google.com/github/rnmarin/portfolio/blob/main/AnaliseDadosViolencianoRJpt.ipynb\" target=\"_parent\"><img src=\"https://colab.research.google.com/assets/colab-badge.svg\" alt=\"Open In Colab\"/></a>"
      ]
    },
    {
      "cell_type": "markdown",
      "metadata": {
        "id": "_YAP58Y3LNnI"
      },
      "source": [
        "\r\n",
        "###<center>**Renan Marin: Accountant, but not a common accountant**<center>\r\n",
        "\r\n",
        "---"
      ]
    },
    {
      "cell_type": "markdown",
      "metadata": {
        "id": "JMVwUVqZLZQk"
      },
      "source": [
        " # <center> **Análise de Dados sobre a violência na cidade do Rio de Janeiro** <center/>\r\n",
        " \r\n",
        "#### <center> Um panorama estatísco sobre uma das cidades mais emblemáticas do mundo.\r\n",
        "<br>\r\n",
        "<center><img alt=\"Analisando Airbnb\" width=\"80%\" src=\"https://diariodorio.com/wp-content/uploads/2016/06/Violencia-Rio-de-Janeiro1.jpg\"></center>"
      ]
    },
    {
      "cell_type": "markdown",
      "metadata": {
        "id": "dNxVNHNtNRJR"
      },
      "source": [
        "De modo geral o Brasil é assolado pelo da mal da falta de segurança em diversas cidades. A violência é sempre um assunto que está em pauta nos princípais meios de comunicação. Sua origem histórica pode ser observada com mais presença em países subdesenvolvidos associados com o problema da diferença social.\r\n",
        "\r\n",
        "<br>\r\n",
        "\r\n",
        "Este presente artigo visa analisar de forma sistemática dados sobre a violência na cidade do **Rio de Janeiro** fornecidos pelo [ISP - Instituto de Segurança Pública do Rio de Janeiro](http://www.ispdados.rj.gov.br/estatistica.html).\r\n",
        "\r\n"
      ]
    },
    {
      "cell_type": "markdown",
      "metadata": {
        "id": "AI4Pbp5hRcqq"
      },
      "source": [
        "## Obtenção dos Dados\r\n",
        "\r\n",
        "\r\n",
        "Os dados foram obtidos diretamento do portal ISPDados, que é uma página de Dados Abertos do Instituto de Segurança Pública do Rio de Janeiro.\r\n",
        "\r\n",
        "As estatísticas divulgadas no portal são construídas a partir dos Registros de Ocorrência (RO) lavrados nas delegacias de Polícia Civil do Estado do Rio de Janeiro, além de informações complementares de órgãos específicos da Polícia Militar do Estado do Rio de Janeiro.\r\n",
        "\r\n",
        "Como forma de criar um controle de qualidade, antes de serem consolidados no ISP os RO são submetidos à Corregedoria Interna da Polícia Civil (COINPOL). As estatísticas produzidas baseiam-se na data em que foi confeccionado o Registro de Ocorrência.\r\n",
        "\r\n",
        "No caso do *dataset* a ser utilizado aqui, o arquivo `csv` pode ser baixado diretamente [neste link](https://raw.githubusercontent.com/carlosfab/dsnp2/master/datasets/violencia_rio.csv)."
      ]
    },
    {
      "cell_type": "markdown",
      "metadata": {
        "id": "jxgRgpZHVaxY"
      },
      "source": [
        "## Objetivo \r\n",
        "\r\n",
        "O objetivo do presente trabalho é analisar de forma exploratória as informaçãos sobre os dados da segurança pública do Rio de Janeiro e poder extrair insights colocando em pratica as funcionalidades básicas de *data science* nas libs pandas, matplotlib e seaborn.\r\n",
        "\r\n",
        "Para melhor estruturação do desenvolvimento da analise, enfatizaremos os seguintes tópicos no decorrer desse trabalho:\r\n",
        "\r\n",
        "* Escalada da guerra: polícia x bandidos\r\n",
        "* Policiais civis e militares mortos em trabalho\r\n",
        "* Crimes relacionados à veiculos\r\n",
        "* Homicídos\r\n",
        "* Tráfico de drogas"
      ]
    },
    {
      "cell_type": "markdown",
      "metadata": {
        "id": "WQpKaU2RRfWe"
      },
      "source": [
        "## Importando Dados"
      ]
    },
    {
      "cell_type": "code",
      "metadata": {
        "id": "YykqNw0iSvLr"
      },
      "source": [
        "#Importando libs e dataframe\r\n",
        "import pandas as pd\r\n",
        "import matplotlib.pyplot as plt\r\n",
        "import seaborn as sns\r\n",
        "\r\n",
        "df = pd.read_csv(\"https://raw.githubusercontent.com/carlosfab/dsnp2/master/datasets/violencia_rio.csv\")\r\n"
      ],
      "execution_count": 1,
      "outputs": []
    },
    {
      "cell_type": "markdown",
      "metadata": {
        "id": "hlZSdjoVU1w-"
      },
      "source": [
        "## Análise Inicial dos Dados\r\n",
        "\r\n",
        "Os dados no dataframe estão subdividdos em anos e meses, disponíveis a partir do mes de janeiro de 1991 até agosto de 2019. A seguir algumas informações sobre a disposição dos dados:   \r\n",
        "\r\n"
      ]
    },
    {
      "cell_type": "markdown",
      "metadata": {
        "id": "Tx2B293QWz_v"
      },
      "source": [
        "\r\n",
        "* Tamanho do DataFrame:\r\n"
      ]
    },
    {
      "cell_type": "code",
      "metadata": {
        "colab": {
          "base_uri": "https://localhost:8080/"
        },
        "id": "PmXuTV-yXzvD",
        "outputId": "8ddaf9a9-e19a-4d49-cb29-a9779f651706"
      },
      "source": [
        "df.shape\r\n",
        "\r\n",
        "print(f'Número de Linhas:',df.shape[0])\r\n",
        "print(f'Número de Colunas:',df.shape[1])"
      ],
      "execution_count": 2,
      "outputs": [
        {
          "output_type": "stream",
          "text": [
            "Número de Linhas: 344\n",
            "Número de Colunas: 56\n"
          ],
          "name": "stdout"
        }
      ]
    },
    {
      "cell_type": "markdown",
      "metadata": {
        "id": "e7MTTvy7Zpf9"
      },
      "source": [
        "O dataframe possuí 344 entradas e 56 variáveis."
      ]
    },
    {
      "cell_type": "markdown",
      "metadata": {
        "id": "P93YaoG2W08P"
      },
      "source": [
        "\r\n",
        "* Colunas presentes no Dataframe:\r\n"
      ]
    },
    {
      "cell_type": "code",
      "metadata": {
        "colab": {
          "base_uri": "https://localhost:8080/"
        },
        "id": "homBk_m7ZYT_",
        "outputId": "9375b0d2-78f9-4340-b7be-c350393fd628"
      },
      "source": [
        "df.columns"
      ],
      "execution_count": 3,
      "outputs": [
        {
          "output_type": "execute_result",
          "data": {
            "text/plain": [
              "Index(['vano', 'mes', 'hom_doloso', 'lesao_corp_morte', 'latrocinio',\n",
              "       'hom_por_interv_policial', 'tentat_hom', 'lesao_corp_dolosa', 'estupro',\n",
              "       'hom_culposo', 'lesao_corp_culposa', 'roubo_comercio',\n",
              "       'roubo_residencia', 'roubo_veiculo', 'roubo_carga', 'roubo_transeunte',\n",
              "       'roubo_em_coletivo', 'roubo_banco', 'roubo_cx_eletronico',\n",
              "       'roubo_celular', 'roubo_conducao_saque', 'roubo_apos_saque',\n",
              "       'roubo_bicicleta', 'outros_roubos', 'total_roubos', 'furto_veiculos',\n",
              "       'furto_transeunte', 'furto_coletivo', 'furto_celular',\n",
              "       'furto_bicicleta', 'outros_furtos', 'total_furtos', 'sequestro',\n",
              "       'extorsao', 'sequestro_relampago', 'estelionato', 'apreensao_drogas',\n",
              "       'posse_drogas', 'trafico_drogas', 'apreensao_drogas_sem_autor',\n",
              "       'recuperacao_veiculos', 'apf', 'aaapai', 'cmp', 'cmba', 'ameaca',\n",
              "       'pessoas_desaparecidas', 'encontro_cadaver', 'encontro_ossada',\n",
              "       'pol_militares_mortos_serv', 'pol_civis_mortos_serv',\n",
              "       'indicador_letalidade', 'indicador_roubo_rua', 'indicador_roubo_veic',\n",
              "       'registro_ocorrencias', 'fase'],\n",
              "      dtype='object')"
            ]
          },
          "metadata": {
            "tags": []
          },
          "execution_count": 3
        }
      ]
    },
    {
      "cell_type": "markdown",
      "metadata": {
        "id": "OX7DCC0lZ_F3"
      },
      "source": [
        "As descrições das variáveis estão dispostas acima. Desta forma, agora é importante saber quais são os tipos de dados que essas variáveis possuem para  serem melhor analisados adiante."
      ]
    },
    {
      "cell_type": "markdown",
      "metadata": {
        "id": "sfStnImUW1nZ"
      },
      "source": [
        "\r\n",
        "\r\n",
        "* Tipos das variáveis:"
      ]
    },
    {
      "cell_type": "code",
      "metadata": {
        "colab": {
          "base_uri": "https://localhost:8080/"
        },
        "id": "uDaR3q4ibK5y",
        "outputId": "64854404-b48b-4c7d-bfd4-f7069e598b83"
      },
      "source": [
        "df.dtypes"
      ],
      "execution_count": 4,
      "outputs": [
        {
          "output_type": "execute_result",
          "data": {
            "text/plain": [
              "vano                            int64\n",
              "mes                             int64\n",
              "hom_doloso                      int64\n",
              "lesao_corp_morte              float64\n",
              "latrocinio                      int64\n",
              "hom_por_interv_policial       float64\n",
              "tentat_hom                      int64\n",
              "lesao_corp_dolosa               int64\n",
              "estupro                       float64\n",
              "hom_culposo                   float64\n",
              "lesao_corp_culposa            float64\n",
              "roubo_comercio                  int64\n",
              "roubo_residencia                int64\n",
              "roubo_veiculo                   int64\n",
              "roubo_carga                     int64\n",
              "roubo_transeunte                int64\n",
              "roubo_em_coletivo               int64\n",
              "roubo_banco                     int64\n",
              "roubo_cx_eletronico           float64\n",
              "roubo_celular                 float64\n",
              "roubo_conducao_saque          float64\n",
              "roubo_apos_saque              float64\n",
              "roubo_bicicleta               float64\n",
              "outros_roubos                   int64\n",
              "total_roubos                    int64\n",
              "furto_veiculos                  int64\n",
              "furto_transeunte                int64\n",
              "furto_coletivo                float64\n",
              "furto_celular                 float64\n",
              "furto_bicicleta               float64\n",
              "outros_furtos                   int64\n",
              "total_furtos                    int64\n",
              "sequestro                     float64\n",
              "extorsao                      float64\n",
              "sequestro_relampago           float64\n",
              "estelionato                   float64\n",
              "apreensao_drogas                int64\n",
              "posse_drogas                  float64\n",
              "trafico_drogas                float64\n",
              "apreensao_drogas_sem_autor    float64\n",
              "recuperacao_veiculos            int64\n",
              "apf                           float64\n",
              "aaapai                        float64\n",
              "cmp                           float64\n",
              "cmba                          float64\n",
              "ameaca                        float64\n",
              "pessoas_desaparecidas         float64\n",
              "encontro_cadaver                int64\n",
              "encontro_ossada               float64\n",
              "pol_militares_mortos_serv     float64\n",
              "pol_civis_mortos_serv         float64\n",
              "indicador_letalidade            int64\n",
              "indicador_roubo_rua             int64\n",
              "indicador_roubo_veic            int64\n",
              "registro_ocorrencias          float64\n",
              "fase                            int64\n",
              "dtype: object"
            ]
          },
          "metadata": {
            "tags": []
          },
          "execution_count": 4
        }
      ]
    },
    {
      "cell_type": "markdown",
      "metadata": {
        "id": "c3GC1_6DdEYo"
      },
      "source": [
        "Pode-se perceber que o dataframe se resume em dados do tipo int64 e float64. Isso significa que ou os dados desse dataframe são números inteiros (int64) ou valores de ponto flutuante (float64), numéricos aproximados com componentes fracionários, resumindo: valores com vírgula."
      ]
    },
    {
      "cell_type": "markdown",
      "metadata": {
        "id": "23aG_rs0W3uk"
      },
      "source": [
        "\r\n",
        "* Visualização das 5 primeiras linhas do dataframe:\r\n"
      ]
    },
    {
      "cell_type": "code",
      "metadata": {
        "colab": {
          "base_uri": "https://localhost:8080/",
          "height": 217
        },
        "id": "vdQxeneieyJL",
        "outputId": "93c1bd88-1f33-4bf8-b7b2-f25e32911af5"
      },
      "source": [
        "df.head()"
      ],
      "execution_count": 5,
      "outputs": [
        {
          "output_type": "execute_result",
          "data": {
            "text/html": [
              "<div>\n",
              "<style scoped>\n",
              "    .dataframe tbody tr th:only-of-type {\n",
              "        vertical-align: middle;\n",
              "    }\n",
              "\n",
              "    .dataframe tbody tr th {\n",
              "        vertical-align: top;\n",
              "    }\n",
              "\n",
              "    .dataframe thead th {\n",
              "        text-align: right;\n",
              "    }\n",
              "</style>\n",
              "<table border=\"1\" class=\"dataframe\">\n",
              "  <thead>\n",
              "    <tr style=\"text-align: right;\">\n",
              "      <th></th>\n",
              "      <th>vano</th>\n",
              "      <th>mes</th>\n",
              "      <th>hom_doloso</th>\n",
              "      <th>lesao_corp_morte</th>\n",
              "      <th>latrocinio</th>\n",
              "      <th>hom_por_interv_policial</th>\n",
              "      <th>tentat_hom</th>\n",
              "      <th>lesao_corp_dolosa</th>\n",
              "      <th>estupro</th>\n",
              "      <th>hom_culposo</th>\n",
              "      <th>lesao_corp_culposa</th>\n",
              "      <th>roubo_comercio</th>\n",
              "      <th>roubo_residencia</th>\n",
              "      <th>roubo_veiculo</th>\n",
              "      <th>roubo_carga</th>\n",
              "      <th>roubo_transeunte</th>\n",
              "      <th>roubo_em_coletivo</th>\n",
              "      <th>roubo_banco</th>\n",
              "      <th>roubo_cx_eletronico</th>\n",
              "      <th>roubo_celular</th>\n",
              "      <th>roubo_conducao_saque</th>\n",
              "      <th>roubo_apos_saque</th>\n",
              "      <th>roubo_bicicleta</th>\n",
              "      <th>outros_roubos</th>\n",
              "      <th>total_roubos</th>\n",
              "      <th>furto_veiculos</th>\n",
              "      <th>furto_transeunte</th>\n",
              "      <th>furto_coletivo</th>\n",
              "      <th>furto_celular</th>\n",
              "      <th>furto_bicicleta</th>\n",
              "      <th>outros_furtos</th>\n",
              "      <th>total_furtos</th>\n",
              "      <th>sequestro</th>\n",
              "      <th>extorsao</th>\n",
              "      <th>sequestro_relampago</th>\n",
              "      <th>estelionato</th>\n",
              "      <th>apreensao_drogas</th>\n",
              "      <th>posse_drogas</th>\n",
              "      <th>trafico_drogas</th>\n",
              "      <th>apreensao_drogas_sem_autor</th>\n",
              "      <th>recuperacao_veiculos</th>\n",
              "      <th>apf</th>\n",
              "      <th>aaapai</th>\n",
              "      <th>cmp</th>\n",
              "      <th>cmba</th>\n",
              "      <th>ameaca</th>\n",
              "      <th>pessoas_desaparecidas</th>\n",
              "      <th>encontro_cadaver</th>\n",
              "      <th>encontro_ossada</th>\n",
              "      <th>pol_militares_mortos_serv</th>\n",
              "      <th>pol_civis_mortos_serv</th>\n",
              "      <th>indicador_letalidade</th>\n",
              "      <th>indicador_roubo_rua</th>\n",
              "      <th>indicador_roubo_veic</th>\n",
              "      <th>registro_ocorrencias</th>\n",
              "      <th>fase</th>\n",
              "    </tr>\n",
              "  </thead>\n",
              "  <tbody>\n",
              "    <tr>\n",
              "      <th>0</th>\n",
              "      <td>1991</td>\n",
              "      <td>1</td>\n",
              "      <td>657</td>\n",
              "      <td>NaN</td>\n",
              "      <td>15</td>\n",
              "      <td>NaN</td>\n",
              "      <td>162</td>\n",
              "      <td>3051</td>\n",
              "      <td>NaN</td>\n",
              "      <td>NaN</td>\n",
              "      <td>NaN</td>\n",
              "      <td>350</td>\n",
              "      <td>188</td>\n",
              "      <td>1174</td>\n",
              "      <td>63</td>\n",
              "      <td>967</td>\n",
              "      <td>381</td>\n",
              "      <td>37</td>\n",
              "      <td>NaN</td>\n",
              "      <td>NaN</td>\n",
              "      <td>NaN</td>\n",
              "      <td>NaN</td>\n",
              "      <td>NaN</td>\n",
              "      <td>158</td>\n",
              "      <td>3318</td>\n",
              "      <td>2009</td>\n",
              "      <td>1147</td>\n",
              "      <td>NaN</td>\n",
              "      <td>NaN</td>\n",
              "      <td>NaN</td>\n",
              "      <td>3561</td>\n",
              "      <td>6717</td>\n",
              "      <td>NaN</td>\n",
              "      <td>NaN</td>\n",
              "      <td>NaN</td>\n",
              "      <td>NaN</td>\n",
              "      <td>133</td>\n",
              "      <td>NaN</td>\n",
              "      <td>NaN</td>\n",
              "      <td>NaN</td>\n",
              "      <td>872</td>\n",
              "      <td>NaN</td>\n",
              "      <td>NaN</td>\n",
              "      <td>NaN</td>\n",
              "      <td>NaN</td>\n",
              "      <td>NaN</td>\n",
              "      <td>NaN</td>\n",
              "      <td>217</td>\n",
              "      <td>NaN</td>\n",
              "      <td>NaN</td>\n",
              "      <td>NaN</td>\n",
              "      <td>672</td>\n",
              "      <td>1348</td>\n",
              "      <td>1174</td>\n",
              "      <td>NaN</td>\n",
              "      <td>3</td>\n",
              "    </tr>\n",
              "    <tr>\n",
              "      <th>1</th>\n",
              "      <td>1991</td>\n",
              "      <td>2</td>\n",
              "      <td>732</td>\n",
              "      <td>NaN</td>\n",
              "      <td>17</td>\n",
              "      <td>NaN</td>\n",
              "      <td>175</td>\n",
              "      <td>3421</td>\n",
              "      <td>NaN</td>\n",
              "      <td>NaN</td>\n",
              "      <td>NaN</td>\n",
              "      <td>357</td>\n",
              "      <td>171</td>\n",
              "      <td>1097</td>\n",
              "      <td>64</td>\n",
              "      <td>963</td>\n",
              "      <td>432</td>\n",
              "      <td>35</td>\n",
              "      <td>NaN</td>\n",
              "      <td>NaN</td>\n",
              "      <td>NaN</td>\n",
              "      <td>NaN</td>\n",
              "      <td>NaN</td>\n",
              "      <td>142</td>\n",
              "      <td>3261</td>\n",
              "      <td>1850</td>\n",
              "      <td>1066</td>\n",
              "      <td>NaN</td>\n",
              "      <td>NaN</td>\n",
              "      <td>NaN</td>\n",
              "      <td>3309</td>\n",
              "      <td>6225</td>\n",
              "      <td>NaN</td>\n",
              "      <td>NaN</td>\n",
              "      <td>NaN</td>\n",
              "      <td>NaN</td>\n",
              "      <td>127</td>\n",
              "      <td>NaN</td>\n",
              "      <td>NaN</td>\n",
              "      <td>NaN</td>\n",
              "      <td>751</td>\n",
              "      <td>NaN</td>\n",
              "      <td>NaN</td>\n",
              "      <td>NaN</td>\n",
              "      <td>NaN</td>\n",
              "      <td>NaN</td>\n",
              "      <td>NaN</td>\n",
              "      <td>209</td>\n",
              "      <td>NaN</td>\n",
              "      <td>NaN</td>\n",
              "      <td>NaN</td>\n",
              "      <td>749</td>\n",
              "      <td>1395</td>\n",
              "      <td>1097</td>\n",
              "      <td>NaN</td>\n",
              "      <td>3</td>\n",
              "    </tr>\n",
              "    <tr>\n",
              "      <th>2</th>\n",
              "      <td>1991</td>\n",
              "      <td>3</td>\n",
              "      <td>713</td>\n",
              "      <td>NaN</td>\n",
              "      <td>25</td>\n",
              "      <td>NaN</td>\n",
              "      <td>216</td>\n",
              "      <td>3613</td>\n",
              "      <td>NaN</td>\n",
              "      <td>NaN</td>\n",
              "      <td>NaN</td>\n",
              "      <td>443</td>\n",
              "      <td>191</td>\n",
              "      <td>1265</td>\n",
              "      <td>71</td>\n",
              "      <td>963</td>\n",
              "      <td>422</td>\n",
              "      <td>43</td>\n",
              "      <td>NaN</td>\n",
              "      <td>NaN</td>\n",
              "      <td>NaN</td>\n",
              "      <td>NaN</td>\n",
              "      <td>NaN</td>\n",
              "      <td>131</td>\n",
              "      <td>3529</td>\n",
              "      <td>2084</td>\n",
              "      <td>1062</td>\n",
              "      <td>NaN</td>\n",
              "      <td>NaN</td>\n",
              "      <td>NaN</td>\n",
              "      <td>3573</td>\n",
              "      <td>6719</td>\n",
              "      <td>NaN</td>\n",
              "      <td>NaN</td>\n",
              "      <td>NaN</td>\n",
              "      <td>NaN</td>\n",
              "      <td>80</td>\n",
              "      <td>NaN</td>\n",
              "      <td>NaN</td>\n",
              "      <td>NaN</td>\n",
              "      <td>789</td>\n",
              "      <td>NaN</td>\n",
              "      <td>NaN</td>\n",
              "      <td>NaN</td>\n",
              "      <td>NaN</td>\n",
              "      <td>NaN</td>\n",
              "      <td>NaN</td>\n",
              "      <td>188</td>\n",
              "      <td>NaN</td>\n",
              "      <td>NaN</td>\n",
              "      <td>NaN</td>\n",
              "      <td>738</td>\n",
              "      <td>1385</td>\n",
              "      <td>1265</td>\n",
              "      <td>NaN</td>\n",
              "      <td>3</td>\n",
              "    </tr>\n",
              "    <tr>\n",
              "      <th>3</th>\n",
              "      <td>1991</td>\n",
              "      <td>4</td>\n",
              "      <td>634</td>\n",
              "      <td>NaN</td>\n",
              "      <td>20</td>\n",
              "      <td>NaN</td>\n",
              "      <td>200</td>\n",
              "      <td>3211</td>\n",
              "      <td>NaN</td>\n",
              "      <td>NaN</td>\n",
              "      <td>NaN</td>\n",
              "      <td>425</td>\n",
              "      <td>199</td>\n",
              "      <td>1415</td>\n",
              "      <td>81</td>\n",
              "      <td>1186</td>\n",
              "      <td>354</td>\n",
              "      <td>36</td>\n",
              "      <td>NaN</td>\n",
              "      <td>NaN</td>\n",
              "      <td>NaN</td>\n",
              "      <td>NaN</td>\n",
              "      <td>NaN</td>\n",
              "      <td>112</td>\n",
              "      <td>3808</td>\n",
              "      <td>2085</td>\n",
              "      <td>1195</td>\n",
              "      <td>NaN</td>\n",
              "      <td>NaN</td>\n",
              "      <td>NaN</td>\n",
              "      <td>3290</td>\n",
              "      <td>6570</td>\n",
              "      <td>NaN</td>\n",
              "      <td>NaN</td>\n",
              "      <td>NaN</td>\n",
              "      <td>NaN</td>\n",
              "      <td>133</td>\n",
              "      <td>NaN</td>\n",
              "      <td>NaN</td>\n",
              "      <td>NaN</td>\n",
              "      <td>787</td>\n",
              "      <td>NaN</td>\n",
              "      <td>NaN</td>\n",
              "      <td>NaN</td>\n",
              "      <td>NaN</td>\n",
              "      <td>NaN</td>\n",
              "      <td>NaN</td>\n",
              "      <td>140</td>\n",
              "      <td>NaN</td>\n",
              "      <td>NaN</td>\n",
              "      <td>NaN</td>\n",
              "      <td>654</td>\n",
              "      <td>1540</td>\n",
              "      <td>1415</td>\n",
              "      <td>NaN</td>\n",
              "      <td>3</td>\n",
              "    </tr>\n",
              "    <tr>\n",
              "      <th>4</th>\n",
              "      <td>1991</td>\n",
              "      <td>5</td>\n",
              "      <td>650</td>\n",
              "      <td>NaN</td>\n",
              "      <td>20</td>\n",
              "      <td>NaN</td>\n",
              "      <td>146</td>\n",
              "      <td>3051</td>\n",
              "      <td>NaN</td>\n",
              "      <td>NaN</td>\n",
              "      <td>NaN</td>\n",
              "      <td>553</td>\n",
              "      <td>231</td>\n",
              "      <td>1449</td>\n",
              "      <td>82</td>\n",
              "      <td>931</td>\n",
              "      <td>335</td>\n",
              "      <td>27</td>\n",
              "      <td>NaN</td>\n",
              "      <td>NaN</td>\n",
              "      <td>NaN</td>\n",
              "      <td>NaN</td>\n",
              "      <td>NaN</td>\n",
              "      <td>147</td>\n",
              "      <td>3755</td>\n",
              "      <td>2185</td>\n",
              "      <td>723</td>\n",
              "      <td>NaN</td>\n",
              "      <td>NaN</td>\n",
              "      <td>NaN</td>\n",
              "      <td>3546</td>\n",
              "      <td>6454</td>\n",
              "      <td>NaN</td>\n",
              "      <td>NaN</td>\n",
              "      <td>NaN</td>\n",
              "      <td>NaN</td>\n",
              "      <td>163</td>\n",
              "      <td>NaN</td>\n",
              "      <td>NaN</td>\n",
              "      <td>NaN</td>\n",
              "      <td>845</td>\n",
              "      <td>NaN</td>\n",
              "      <td>NaN</td>\n",
              "      <td>NaN</td>\n",
              "      <td>NaN</td>\n",
              "      <td>NaN</td>\n",
              "      <td>NaN</td>\n",
              "      <td>78</td>\n",
              "      <td>NaN</td>\n",
              "      <td>NaN</td>\n",
              "      <td>NaN</td>\n",
              "      <td>670</td>\n",
              "      <td>1266</td>\n",
              "      <td>1449</td>\n",
              "      <td>NaN</td>\n",
              "      <td>3</td>\n",
              "    </tr>\n",
              "  </tbody>\n",
              "</table>\n",
              "</div>"
            ],
            "text/plain": [
              "   vano  mes  hom_doloso  ...  indicador_roubo_veic  registro_ocorrencias  fase\n",
              "0  1991    1         657  ...                  1174                   NaN     3\n",
              "1  1991    2         732  ...                  1097                   NaN     3\n",
              "2  1991    3         713  ...                  1265                   NaN     3\n",
              "3  1991    4         634  ...                  1415                   NaN     3\n",
              "4  1991    5         650  ...                  1449                   NaN     3\n",
              "\n",
              "[5 rows x 56 columns]"
            ]
          },
          "metadata": {
            "tags": []
          },
          "execution_count": 5
        }
      ]
    },
    {
      "cell_type": "markdown",
      "metadata": {
        "id": "JO7TZXlKf5Ff"
      },
      "source": [
        "Acima é possível observar a disposição em que as informações se encontram. Um ponto de atenção observado é a quantidade das ocorrências de valor 'NaN'. Essa ocorrência refere-se a valores ausentes.\r\n",
        "\r\n",
        "Valores ausentes são um problema a ser depurado na análise dos dados, pois estes podem as vezes comprometer ou inviesar a análise.\r\n",
        "\r\n",
        "Referente aos dados dos crimes, podemos inferir, por se tratar de dados de um longo período de tempo, que pode ter havido falhas de registro ou mesmo tipologias de crimes novas no decorrer do tempo, criação de novas categorias, etc.\r\n",
        "\r\n",
        "Assim, é muito importante termos uma visão geral da quantidade de dados que estão faltando."
      ]
    },
    {
      "cell_type": "markdown",
      "metadata": {
        "id": "aXULLfmJW4RF"
      },
      "source": [
        "\r\n",
        "\r\n",
        "* Porcentagem de valores ausentes das **colunas**:"
      ]
    },
    {
      "cell_type": "code",
      "metadata": {
        "colab": {
          "base_uri": "https://localhost:8080/"
        },
        "id": "INa2IVcphFcU",
        "outputId": "5fea2282-537f-46f6-f057-551ed4cbef7f"
      },
      "source": [
        "(df.isnull().sum()/df.shape[0]).sort_values(ascending=False)"
      ],
      "execution_count": 6,
      "outputs": [
        {
          "output_type": "execute_result",
          "data": {
            "text/plain": [
              "roubo_bicicleta               0.802326\n",
              "furto_bicicleta               0.802326\n",
              "apreensao_drogas_sem_autor    0.523256\n",
              "posse_drogas                  0.523256\n",
              "apf                           0.523256\n",
              "aaapai                        0.523256\n",
              "cmp                           0.523256\n",
              "trafico_drogas                0.523256\n",
              "cmba                          0.523256\n",
              "sequestro_relampago           0.418605\n",
              "furto_coletivo                0.418605\n",
              "extorsao                      0.418605\n",
              "furto_celular                 0.418605\n",
              "roubo_apos_saque              0.418605\n",
              "roubo_conducao_saque          0.418605\n",
              "roubo_cx_eletronico           0.418605\n",
              "estupro                       0.418605\n",
              "estelionato                   0.418605\n",
              "pol_civis_mortos_serv         0.418605\n",
              "pol_militares_mortos_serv     0.418605\n",
              "pessoas_desaparecidas         0.383721\n",
              "encontro_ossada               0.383721\n",
              "roubo_celular                 0.313953\n",
              "lesao_corp_culposa            0.279070\n",
              "ameaca                        0.279070\n",
              "sequestro                     0.279070\n",
              "lesao_corp_morte              0.279070\n",
              "registro_ocorrencias          0.279070\n",
              "hom_por_interv_policial       0.244186\n",
              "hom_culposo                   0.244186\n",
              "tentat_hom                    0.000000\n",
              "roubo_comercio                0.000000\n",
              "roubo_residencia              0.000000\n",
              "latrocinio                    0.000000\n",
              "lesao_corp_dolosa             0.000000\n",
              "hom_doloso                    0.000000\n",
              "roubo_transeunte              0.000000\n",
              "mes                           0.000000\n",
              "roubo_veiculo                 0.000000\n",
              "roubo_carga                   0.000000\n",
              "fase                          0.000000\n",
              "roubo_em_coletivo             0.000000\n",
              "roubo_banco                   0.000000\n",
              "outros_roubos                 0.000000\n",
              "total_roubos                  0.000000\n",
              "furto_veiculos                0.000000\n",
              "furto_transeunte              0.000000\n",
              "outros_furtos                 0.000000\n",
              "total_furtos                  0.000000\n",
              "apreensao_drogas              0.000000\n",
              "recuperacao_veiculos          0.000000\n",
              "encontro_cadaver              0.000000\n",
              "indicador_letalidade          0.000000\n",
              "indicador_roubo_rua           0.000000\n",
              "indicador_roubo_veic          0.000000\n",
              "vano                          0.000000\n",
              "dtype: float64"
            ]
          },
          "metadata": {
            "tags": []
          },
          "execution_count": 6
        }
      ]
    },
    {
      "cell_type": "markdown",
      "metadata": {
        "id": "aWOsKwjc2fpB"
      },
      "source": [
        "Observando as saídas percebemos que exite uma grande quantidade de valores faltantes.\r\n",
        "\r\n",
        "Avançaremos na análise exploratória para entender de que forma tratar os dados de maneira que isso não prejudique nas inferências sobre os dados.\r\n",
        "\r\n",
        "A partir do método `describe`será possível verificar a distribuições dos valores."
      ]
    },
    {
      "cell_type": "markdown",
      "metadata": {
        "id": "BPzxGoj18AzC"
      },
      "source": [
        "## Informações Estatística dos Dados"
      ]
    },
    {
      "cell_type": "markdown",
      "metadata": {
        "id": "gnK8UYAW83Ax"
      },
      "source": [
        "O objetivo desta etapa é:\r\n",
        "\r\n",
        "* Identificar outliers.\r\n",
        "* Entender melhor a distribuição dos dados.\r\n",
        "* Identificar falhas na distribuição dos dados.\r\n"
      ]
    },
    {
      "cell_type": "code",
      "metadata": {
        "colab": {
          "base_uri": "https://localhost:8080/",
          "height": 307
        },
        "id": "US6_LmyF-ypa",
        "outputId": "a6a15817-e431-41dd-cc19-9639859967a1"
      },
      "source": [
        "df.describe()"
      ],
      "execution_count": 7,
      "outputs": [
        {
          "output_type": "execute_result",
          "data": {
            "text/html": [
              "<div>\n",
              "<style scoped>\n",
              "    .dataframe tbody tr th:only-of-type {\n",
              "        vertical-align: middle;\n",
              "    }\n",
              "\n",
              "    .dataframe tbody tr th {\n",
              "        vertical-align: top;\n",
              "    }\n",
              "\n",
              "    .dataframe thead th {\n",
              "        text-align: right;\n",
              "    }\n",
              "</style>\n",
              "<table border=\"1\" class=\"dataframe\">\n",
              "  <thead>\n",
              "    <tr style=\"text-align: right;\">\n",
              "      <th></th>\n",
              "      <th>vano</th>\n",
              "      <th>mes</th>\n",
              "      <th>hom_doloso</th>\n",
              "      <th>lesao_corp_morte</th>\n",
              "      <th>latrocinio</th>\n",
              "      <th>hom_por_interv_policial</th>\n",
              "      <th>tentat_hom</th>\n",
              "      <th>lesao_corp_dolosa</th>\n",
              "      <th>estupro</th>\n",
              "      <th>hom_culposo</th>\n",
              "      <th>lesao_corp_culposa</th>\n",
              "      <th>roubo_comercio</th>\n",
              "      <th>roubo_residencia</th>\n",
              "      <th>roubo_veiculo</th>\n",
              "      <th>roubo_carga</th>\n",
              "      <th>roubo_transeunte</th>\n",
              "      <th>roubo_em_coletivo</th>\n",
              "      <th>roubo_banco</th>\n",
              "      <th>roubo_cx_eletronico</th>\n",
              "      <th>roubo_celular</th>\n",
              "      <th>roubo_conducao_saque</th>\n",
              "      <th>roubo_apos_saque</th>\n",
              "      <th>roubo_bicicleta</th>\n",
              "      <th>outros_roubos</th>\n",
              "      <th>total_roubos</th>\n",
              "      <th>furto_veiculos</th>\n",
              "      <th>furto_transeunte</th>\n",
              "      <th>furto_coletivo</th>\n",
              "      <th>furto_celular</th>\n",
              "      <th>furto_bicicleta</th>\n",
              "      <th>outros_furtos</th>\n",
              "      <th>total_furtos</th>\n",
              "      <th>sequestro</th>\n",
              "      <th>extorsao</th>\n",
              "      <th>sequestro_relampago</th>\n",
              "      <th>estelionato</th>\n",
              "      <th>apreensao_drogas</th>\n",
              "      <th>posse_drogas</th>\n",
              "      <th>trafico_drogas</th>\n",
              "      <th>apreensao_drogas_sem_autor</th>\n",
              "      <th>recuperacao_veiculos</th>\n",
              "      <th>apf</th>\n",
              "      <th>aaapai</th>\n",
              "      <th>cmp</th>\n",
              "      <th>cmba</th>\n",
              "      <th>ameaca</th>\n",
              "      <th>pessoas_desaparecidas</th>\n",
              "      <th>encontro_cadaver</th>\n",
              "      <th>encontro_ossada</th>\n",
              "      <th>pol_militares_mortos_serv</th>\n",
              "      <th>pol_civis_mortos_serv</th>\n",
              "      <th>indicador_letalidade</th>\n",
              "      <th>indicador_roubo_rua</th>\n",
              "      <th>indicador_roubo_veic</th>\n",
              "      <th>registro_ocorrencias</th>\n",
              "      <th>fase</th>\n",
              "    </tr>\n",
              "  </thead>\n",
              "  <tbody>\n",
              "    <tr>\n",
              "      <th>count</th>\n",
              "      <td>344.000000</td>\n",
              "      <td>344.000000</td>\n",
              "      <td>344.000000</td>\n",
              "      <td>248.000000</td>\n",
              "      <td>344.000000</td>\n",
              "      <td>260.00000</td>\n",
              "      <td>344.000000</td>\n",
              "      <td>344.000000</td>\n",
              "      <td>200.000000</td>\n",
              "      <td>260.000000</td>\n",
              "      <td>248.000000</td>\n",
              "      <td>344.000000</td>\n",
              "      <td>344.000000</td>\n",
              "      <td>344.000000</td>\n",
              "      <td>344.000000</td>\n",
              "      <td>344.000000</td>\n",
              "      <td>344.000000</td>\n",
              "      <td>344.000000</td>\n",
              "      <td>200.000000</td>\n",
              "      <td>236.000000</td>\n",
              "      <td>200.000000</td>\n",
              "      <td>200.000000</td>\n",
              "      <td>68.000000</td>\n",
              "      <td>344.000000</td>\n",
              "      <td>344.000000</td>\n",
              "      <td>344.000000</td>\n",
              "      <td>344.000000</td>\n",
              "      <td>200.000000</td>\n",
              "      <td>200.000000</td>\n",
              "      <td>68.000000</td>\n",
              "      <td>344.000000</td>\n",
              "      <td>344.000000</td>\n",
              "      <td>248.000000</td>\n",
              "      <td>200.000000</td>\n",
              "      <td>200.000000</td>\n",
              "      <td>200.000000</td>\n",
              "      <td>344.000000</td>\n",
              "      <td>164.000000</td>\n",
              "      <td>164.000000</td>\n",
              "      <td>164.000000</td>\n",
              "      <td>344.000000</td>\n",
              "      <td>164.000000</td>\n",
              "      <td>164.000000</td>\n",
              "      <td>164.000000</td>\n",
              "      <td>164.000000</td>\n",
              "      <td>248.000000</td>\n",
              "      <td>212.000000</td>\n",
              "      <td>344.000000</td>\n",
              "      <td>212.000000</td>\n",
              "      <td>200.000000</td>\n",
              "      <td>200.00000</td>\n",
              "      <td>344.000000</td>\n",
              "      <td>344.000000</td>\n",
              "      <td>344.000000</td>\n",
              "      <td>248.000000</td>\n",
              "      <td>344.000000</td>\n",
              "    </tr>\n",
              "    <tr>\n",
              "      <th>mean</th>\n",
              "      <td>2004.837209</td>\n",
              "      <td>6.453488</td>\n",
              "      <td>504.555233</td>\n",
              "      <td>4.334677</td>\n",
              "      <td>15.668605</td>\n",
              "      <td>71.90000</td>\n",
              "      <td>318.267442</td>\n",
              "      <td>5492.799419</td>\n",
              "      <td>369.945000</td>\n",
              "      <td>212.119231</td>\n",
              "      <td>3410.762097</td>\n",
              "      <td>455.005814</td>\n",
              "      <td>133.284884</td>\n",
              "      <td>2448.697674</td>\n",
              "      <td>340.322674</td>\n",
              "      <td>3418.520349</td>\n",
              "      <td>659.002907</td>\n",
              "      <td>9.375000</td>\n",
              "      <td>3.550000</td>\n",
              "      <td>957.974576</td>\n",
              "      <td>11.320000</td>\n",
              "      <td>145.665000</td>\n",
              "      <td>10.808824</td>\n",
              "      <td>1211.223837</td>\n",
              "      <td>9428.119186</td>\n",
              "      <td>1674.671512</td>\n",
              "      <td>1518.921512</td>\n",
              "      <td>650.230000</td>\n",
              "      <td>1449.175000</td>\n",
              "      <td>124.808824</td>\n",
              "      <td>5994.328488</td>\n",
              "      <td>10433.177326</td>\n",
              "      <td>0.665323</td>\n",
              "      <td>133.265000</td>\n",
              "      <td>7.755000</td>\n",
              "      <td>2231.860000</td>\n",
              "      <td>1071.930233</td>\n",
              "      <td>609.237805</td>\n",
              "      <td>759.146341</td>\n",
              "      <td>186.146341</td>\n",
              "      <td>1772.238372</td>\n",
              "      <td>2319.585366</td>\n",
              "      <td>568.628049</td>\n",
              "      <td>1255.512195</td>\n",
              "      <td>83.042683</td>\n",
              "      <td>5530.326613</td>\n",
              "      <td>435.132075</td>\n",
              "      <td>66.261628</td>\n",
              "      <td>3.301887</td>\n",
              "      <td>2.085000</td>\n",
              "      <td>0.34000</td>\n",
              "      <td>577.691860</td>\n",
              "      <td>4734.738372</td>\n",
              "      <td>2448.697674</td>\n",
              "      <td>53794.161290</td>\n",
              "      <td>2.994186</td>\n",
              "    </tr>\n",
              "    <tr>\n",
              "      <th>std</th>\n",
              "      <td>8.289036</td>\n",
              "      <td>3.447759</td>\n",
              "      <td>113.774481</td>\n",
              "      <td>2.755357</td>\n",
              "      <td>5.861427</td>\n",
              "      <td>36.48882</td>\n",
              "      <td>127.606645</td>\n",
              "      <td>1514.220579</td>\n",
              "      <td>94.392434</td>\n",
              "      <td>54.234700</td>\n",
              "      <td>776.156561</td>\n",
              "      <td>119.765076</td>\n",
              "      <td>44.317963</td>\n",
              "      <td>789.689559</td>\n",
              "      <td>223.855243</td>\n",
              "      <td>2459.017549</td>\n",
              "      <td>297.622342</td>\n",
              "      <td>10.564894</td>\n",
              "      <td>2.634808</td>\n",
              "      <td>624.309034</td>\n",
              "      <td>6.404113</td>\n",
              "      <td>55.392367</td>\n",
              "      <td>7.767628</td>\n",
              "      <td>800.576723</td>\n",
              "      <td>4578.013053</td>\n",
              "      <td>294.852020</td>\n",
              "      <td>971.853102</td>\n",
              "      <td>268.836273</td>\n",
              "      <td>368.638776</td>\n",
              "      <td>80.247427</td>\n",
              "      <td>1964.767779</td>\n",
              "      <td>3696.725756</td>\n",
              "      <td>0.959128</td>\n",
              "      <td>43.303821</td>\n",
              "      <td>5.089646</td>\n",
              "      <td>772.093064</td>\n",
              "      <td>643.381991</td>\n",
              "      <td>246.307700</td>\n",
              "      <td>312.871487</td>\n",
              "      <td>36.221243</td>\n",
              "      <td>656.761843</td>\n",
              "      <td>650.520866</td>\n",
              "      <td>248.040620</td>\n",
              "      <td>357.035450</td>\n",
              "      <td>62.951374</td>\n",
              "      <td>1100.752625</td>\n",
              "      <td>65.353516</td>\n",
              "      <td>34.464519</td>\n",
              "      <td>2.192922</td>\n",
              "      <td>1.761616</td>\n",
              "      <td>0.63752</td>\n",
              "      <td>104.973929</td>\n",
              "      <td>3204.054864</td>\n",
              "      <td>789.689559</td>\n",
              "      <td>11039.051992</td>\n",
              "      <td>0.076138</td>\n",
              "    </tr>\n",
              "    <tr>\n",
              "      <th>min</th>\n",
              "      <td>1991.000000</td>\n",
              "      <td>1.000000</td>\n",
              "      <td>272.000000</td>\n",
              "      <td>0.000000</td>\n",
              "      <td>2.000000</td>\n",
              "      <td>10.00000</td>\n",
              "      <td>122.000000</td>\n",
              "      <td>2350.000000</td>\n",
              "      <td>188.000000</td>\n",
              "      <td>111.000000</td>\n",
              "      <td>848.000000</td>\n",
              "      <td>243.000000</td>\n",
              "      <td>49.000000</td>\n",
              "      <td>1097.000000</td>\n",
              "      <td>59.000000</td>\n",
              "      <td>688.000000</td>\n",
              "      <td>281.000000</td>\n",
              "      <td>0.000000</td>\n",
              "      <td>0.000000</td>\n",
              "      <td>0.000000</td>\n",
              "      <td>1.000000</td>\n",
              "      <td>11.000000</td>\n",
              "      <td>0.000000</td>\n",
              "      <td>81.000000</td>\n",
              "      <td>3261.000000</td>\n",
              "      <td>1159.000000</td>\n",
              "      <td>322.000000</td>\n",
              "      <td>23.000000</td>\n",
              "      <td>484.000000</td>\n",
              "      <td>0.000000</td>\n",
              "      <td>2322.000000</td>\n",
              "      <td>4691.000000</td>\n",
              "      <td>0.000000</td>\n",
              "      <td>23.000000</td>\n",
              "      <td>0.000000</td>\n",
              "      <td>717.000000</td>\n",
              "      <td>80.000000</td>\n",
              "      <td>248.000000</td>\n",
              "      <td>262.000000</td>\n",
              "      <td>114.000000</td>\n",
              "      <td>729.000000</td>\n",
              "      <td>1173.000000</td>\n",
              "      <td>225.000000</td>\n",
              "      <td>628.000000</td>\n",
              "      <td>21.000000</td>\n",
              "      <td>1409.000000</td>\n",
              "      <td>236.000000</td>\n",
              "      <td>0.000000</td>\n",
              "      <td>0.000000</td>\n",
              "      <td>0.000000</td>\n",
              "      <td>0.00000</td>\n",
              "      <td>334.000000</td>\n",
              "      <td>1086.000000</td>\n",
              "      <td>1097.000000</td>\n",
              "      <td>30621.000000</td>\n",
              "      <td>2.000000</td>\n",
              "    </tr>\n",
              "    <tr>\n",
              "      <th>25%</th>\n",
              "      <td>1998.000000</td>\n",
              "      <td>3.000000</td>\n",
              "      <td>413.750000</td>\n",
              "      <td>2.000000</td>\n",
              "      <td>11.000000</td>\n",
              "      <td>41.75000</td>\n",
              "      <td>200.000000</td>\n",
              "      <td>4067.000000</td>\n",
              "      <td>282.000000</td>\n",
              "      <td>176.000000</td>\n",
              "      <td>3040.000000</td>\n",
              "      <td>365.750000</td>\n",
              "      <td>103.750000</td>\n",
              "      <td>1889.750000</td>\n",
              "      <td>208.250000</td>\n",
              "      <td>1053.000000</td>\n",
              "      <td>430.750000</td>\n",
              "      <td>2.000000</td>\n",
              "      <td>2.000000</td>\n",
              "      <td>549.750000</td>\n",
              "      <td>6.000000</td>\n",
              "      <td>106.000000</td>\n",
              "      <td>2.250000</td>\n",
              "      <td>811.750000</td>\n",
              "      <td>5107.750000</td>\n",
              "      <td>1430.500000</td>\n",
              "      <td>732.000000</td>\n",
              "      <td>501.000000</td>\n",
              "      <td>1297.000000</td>\n",
              "      <td>3.750000</td>\n",
              "      <td>3978.000000</td>\n",
              "      <td>6700.250000</td>\n",
              "      <td>0.000000</td>\n",
              "      <td>109.750000</td>\n",
              "      <td>4.750000</td>\n",
              "      <td>1654.500000</td>\n",
              "      <td>714.500000</td>\n",
              "      <td>360.500000</td>\n",
              "      <td>426.000000</td>\n",
              "      <td>160.000000</td>\n",
              "      <td>1276.750000</td>\n",
              "      <td>1681.000000</td>\n",
              "      <td>332.500000</td>\n",
              "      <td>950.500000</td>\n",
              "      <td>46.000000</td>\n",
              "      <td>4868.500000</td>\n",
              "      <td>390.000000</td>\n",
              "      <td>42.000000</td>\n",
              "      <td>2.000000</td>\n",
              "      <td>1.000000</td>\n",
              "      <td>0.00000</td>\n",
              "      <td>500.000000</td>\n",
              "      <td>1557.000000</td>\n",
              "      <td>1889.750000</td>\n",
              "      <td>45374.500000</td>\n",
              "      <td>3.000000</td>\n",
              "    </tr>\n",
              "    <tr>\n",
              "      <th>50%</th>\n",
              "      <td>2005.000000</td>\n",
              "      <td>6.000000</td>\n",
              "      <td>507.000000</td>\n",
              "      <td>4.000000</td>\n",
              "      <td>15.000000</td>\n",
              "      <td>70.00000</td>\n",
              "      <td>318.500000</td>\n",
              "      <td>5830.500000</td>\n",
              "      <td>384.000000</td>\n",
              "      <td>203.000000</td>\n",
              "      <td>3372.000000</td>\n",
              "      <td>433.500000</td>\n",
              "      <td>125.000000</td>\n",
              "      <td>2322.000000</td>\n",
              "      <td>285.500000</td>\n",
              "      <td>2788.500000</td>\n",
              "      <td>592.000000</td>\n",
              "      <td>4.500000</td>\n",
              "      <td>3.000000</td>\n",
              "      <td>717.500000</td>\n",
              "      <td>10.000000</td>\n",
              "      <td>149.500000</td>\n",
              "      <td>13.000000</td>\n",
              "      <td>1154.000000</td>\n",
              "      <td>9243.500000</td>\n",
              "      <td>1637.500000</td>\n",
              "      <td>1076.500000</td>\n",
              "      <td>717.500000</td>\n",
              "      <td>1492.500000</td>\n",
              "      <td>158.000000</td>\n",
              "      <td>6559.000000</td>\n",
              "      <td>10448.500000</td>\n",
              "      <td>0.000000</td>\n",
              "      <td>132.500000</td>\n",
              "      <td>7.000000</td>\n",
              "      <td>2170.500000</td>\n",
              "      <td>979.500000</td>\n",
              "      <td>623.000000</td>\n",
              "      <td>815.000000</td>\n",
              "      <td>184.000000</td>\n",
              "      <td>1755.000000</td>\n",
              "      <td>2424.000000</td>\n",
              "      <td>530.000000</td>\n",
              "      <td>1259.000000</td>\n",
              "      <td>58.000000</td>\n",
              "      <td>5455.000000</td>\n",
              "      <td>427.000000</td>\n",
              "      <td>60.500000</td>\n",
              "      <td>3.000000</td>\n",
              "      <td>2.000000</td>\n",
              "      <td>0.00000</td>\n",
              "      <td>590.000000</td>\n",
              "      <td>4190.000000</td>\n",
              "      <td>2322.000000</td>\n",
              "      <td>54926.500000</td>\n",
              "      <td>3.000000</td>\n",
              "    </tr>\n",
              "    <tr>\n",
              "      <th>75%</th>\n",
              "      <td>2012.000000</td>\n",
              "      <td>9.000000</td>\n",
              "      <td>577.250000</td>\n",
              "      <td>6.000000</td>\n",
              "      <td>19.000000</td>\n",
              "      <td>96.25000</td>\n",
              "      <td>398.250000</td>\n",
              "      <td>6582.500000</td>\n",
              "      <td>441.250000</td>\n",
              "      <td>236.250000</td>\n",
              "      <td>3733.500000</td>\n",
              "      <td>536.250000</td>\n",
              "      <td>151.250000</td>\n",
              "      <td>2778.000000</td>\n",
              "      <td>401.250000</td>\n",
              "      <td>5385.250000</td>\n",
              "      <td>784.000000</td>\n",
              "      <td>14.000000</td>\n",
              "      <td>5.000000</td>\n",
              "      <td>1306.750000</td>\n",
              "      <td>15.000000</td>\n",
              "      <td>180.500000</td>\n",
              "      <td>17.000000</td>\n",
              "      <td>1635.000000</td>\n",
              "      <td>11590.500000</td>\n",
              "      <td>1833.250000</td>\n",
              "      <td>2334.250000</td>\n",
              "      <td>860.000000</td>\n",
              "      <td>1731.250000</td>\n",
              "      <td>181.500000</td>\n",
              "      <td>7601.500000</td>\n",
              "      <td>13877.500000</td>\n",
              "      <td>1.000000</td>\n",
              "      <td>152.250000</td>\n",
              "      <td>11.000000</td>\n",
              "      <td>2880.500000</td>\n",
              "      <td>1546.000000</td>\n",
              "      <td>763.500000</td>\n",
              "      <td>1045.250000</td>\n",
              "      <td>208.000000</td>\n",
              "      <td>2202.000000</td>\n",
              "      <td>2905.500000</td>\n",
              "      <td>793.500000</td>\n",
              "      <td>1515.250000</td>\n",
              "      <td>93.000000</td>\n",
              "      <td>6261.750000</td>\n",
              "      <td>481.500000</td>\n",
              "      <td>87.000000</td>\n",
              "      <td>4.000000</td>\n",
              "      <td>3.000000</td>\n",
              "      <td>1.00000</td>\n",
              "      <td>649.000000</td>\n",
              "      <td>6872.750000</td>\n",
              "      <td>2778.000000</td>\n",
              "      <td>63292.500000</td>\n",
              "      <td>3.000000</td>\n",
              "    </tr>\n",
              "    <tr>\n",
              "      <th>max</th>\n",
              "      <td>2019.000000</td>\n",
              "      <td>12.000000</td>\n",
              "      <td>831.000000</td>\n",
              "      <td>21.000000</td>\n",
              "      <td>36.000000</td>\n",
              "      <td>194.00000</td>\n",
              "      <td>645.000000</td>\n",
              "      <td>9050.000000</td>\n",
              "      <td>561.000000</td>\n",
              "      <td>449.000000</td>\n",
              "      <td>6653.000000</td>\n",
              "      <td>914.000000</td>\n",
              "      <td>300.000000</td>\n",
              "      <td>5358.000000</td>\n",
              "      <td>1329.000000</td>\n",
              "      <td>9669.000000</td>\n",
              "      <td>1628.000000</td>\n",
              "      <td>54.000000</td>\n",
              "      <td>12.000000</td>\n",
              "      <td>2626.000000</td>\n",
              "      <td>37.000000</td>\n",
              "      <td>283.000000</td>\n",
              "      <td>26.000000</td>\n",
              "      <td>3661.000000</td>\n",
              "      <td>23203.000000</td>\n",
              "      <td>2630.000000</td>\n",
              "      <td>5368.000000</td>\n",
              "      <td>1036.000000</td>\n",
              "      <td>2215.000000</td>\n",
              "      <td>243.000000</td>\n",
              "      <td>9880.000000</td>\n",
              "      <td>18003.000000</td>\n",
              "      <td>5.000000</td>\n",
              "      <td>271.000000</td>\n",
              "      <td>31.000000</td>\n",
              "      <td>3627.000000</td>\n",
              "      <td>2543.000000</td>\n",
              "      <td>1160.000000</td>\n",
              "      <td>1282.000000</td>\n",
              "      <td>289.000000</td>\n",
              "      <td>3695.000000</td>\n",
              "      <td>3425.000000</td>\n",
              "      <td>1114.000000</td>\n",
              "      <td>2314.000000</td>\n",
              "      <td>350.000000</td>\n",
              "      <td>9034.000000</td>\n",
              "      <td>628.000000</td>\n",
              "      <td>217.000000</td>\n",
              "      <td>13.000000</td>\n",
              "      <td>10.000000</td>\n",
              "      <td>3.00000</td>\n",
              "      <td>848.000000</td>\n",
              "      <td>13833.000000</td>\n",
              "      <td>5358.000000</td>\n",
              "      <td>75403.000000</td>\n",
              "      <td>3.000000</td>\n",
              "    </tr>\n",
              "  </tbody>\n",
              "</table>\n",
              "</div>"
            ],
            "text/plain": [
              "              vano         mes  ...  registro_ocorrencias        fase\n",
              "count   344.000000  344.000000  ...            248.000000  344.000000\n",
              "mean   2004.837209    6.453488  ...          53794.161290    2.994186\n",
              "std       8.289036    3.447759  ...          11039.051992    0.076138\n",
              "min    1991.000000    1.000000  ...          30621.000000    2.000000\n",
              "25%    1998.000000    3.000000  ...          45374.500000    3.000000\n",
              "50%    2005.000000    6.000000  ...          54926.500000    3.000000\n",
              "75%    2012.000000    9.000000  ...          63292.500000    3.000000\n",
              "max    2019.000000   12.000000  ...          75403.000000    3.000000\n",
              "\n",
              "[8 rows x 56 columns]"
            ]
          },
          "metadata": {
            "tags": []
          },
          "execution_count": 7
        }
      ]
    },
    {
      "cell_type": "markdown",
      "metadata": {
        "id": "p9mv4lHmbEYD"
      },
      "source": [
        "As informações apresentadas através do método `describe` nos auxiliam para entener a disposição dos dados. Porém, não contribui para uma análise qualitativa sobre as variáveis.\r\n",
        "\r\n",
        "Desta forma, optamos por resumir o comporatmento das varíaveis por ano, para que seja possível compreender o comporatamento dos mesmos sob a ótica do tempo.\r\n",
        "\r\n",
        "O que faremos é resumir os dados somando as variáveis por ano:"
      ]
    },
    {
      "cell_type": "code",
      "metadata": {
        "colab": {
          "base_uri": "https://localhost:8080/",
          "height": 247
        },
        "id": "9KyIx4B2VZt6",
        "outputId": "5648b308-5ecb-418f-f521-ca5796dad897"
      },
      "source": [
        "df_year= df.groupby(['vano']).sum()\r\n",
        "df_year.head()"
      ],
      "execution_count": 8,
      "outputs": [
        {
          "output_type": "execute_result",
          "data": {
            "text/html": [
              "<div>\n",
              "<style scoped>\n",
              "    .dataframe tbody tr th:only-of-type {\n",
              "        vertical-align: middle;\n",
              "    }\n",
              "\n",
              "    .dataframe tbody tr th {\n",
              "        vertical-align: top;\n",
              "    }\n",
              "\n",
              "    .dataframe thead th {\n",
              "        text-align: right;\n",
              "    }\n",
              "</style>\n",
              "<table border=\"1\" class=\"dataframe\">\n",
              "  <thead>\n",
              "    <tr style=\"text-align: right;\">\n",
              "      <th></th>\n",
              "      <th>mes</th>\n",
              "      <th>hom_doloso</th>\n",
              "      <th>lesao_corp_morte</th>\n",
              "      <th>latrocinio</th>\n",
              "      <th>hom_por_interv_policial</th>\n",
              "      <th>tentat_hom</th>\n",
              "      <th>lesao_corp_dolosa</th>\n",
              "      <th>estupro</th>\n",
              "      <th>hom_culposo</th>\n",
              "      <th>lesao_corp_culposa</th>\n",
              "      <th>roubo_comercio</th>\n",
              "      <th>roubo_residencia</th>\n",
              "      <th>roubo_veiculo</th>\n",
              "      <th>roubo_carga</th>\n",
              "      <th>roubo_transeunte</th>\n",
              "      <th>roubo_em_coletivo</th>\n",
              "      <th>roubo_banco</th>\n",
              "      <th>roubo_cx_eletronico</th>\n",
              "      <th>roubo_celular</th>\n",
              "      <th>roubo_conducao_saque</th>\n",
              "      <th>roubo_apos_saque</th>\n",
              "      <th>roubo_bicicleta</th>\n",
              "      <th>outros_roubos</th>\n",
              "      <th>total_roubos</th>\n",
              "      <th>furto_veiculos</th>\n",
              "      <th>furto_transeunte</th>\n",
              "      <th>furto_coletivo</th>\n",
              "      <th>furto_celular</th>\n",
              "      <th>furto_bicicleta</th>\n",
              "      <th>outros_furtos</th>\n",
              "      <th>total_furtos</th>\n",
              "      <th>sequestro</th>\n",
              "      <th>extorsao</th>\n",
              "      <th>sequestro_relampago</th>\n",
              "      <th>estelionato</th>\n",
              "      <th>apreensao_drogas</th>\n",
              "      <th>posse_drogas</th>\n",
              "      <th>trafico_drogas</th>\n",
              "      <th>apreensao_drogas_sem_autor</th>\n",
              "      <th>recuperacao_veiculos</th>\n",
              "      <th>apf</th>\n",
              "      <th>aaapai</th>\n",
              "      <th>cmp</th>\n",
              "      <th>cmba</th>\n",
              "      <th>ameaca</th>\n",
              "      <th>pessoas_desaparecidas</th>\n",
              "      <th>encontro_cadaver</th>\n",
              "      <th>encontro_ossada</th>\n",
              "      <th>pol_militares_mortos_serv</th>\n",
              "      <th>pol_civis_mortos_serv</th>\n",
              "      <th>indicador_letalidade</th>\n",
              "      <th>indicador_roubo_rua</th>\n",
              "      <th>indicador_roubo_veic</th>\n",
              "      <th>registro_ocorrencias</th>\n",
              "      <th>fase</th>\n",
              "    </tr>\n",
              "    <tr>\n",
              "      <th>vano</th>\n",
              "      <th></th>\n",
              "      <th></th>\n",
              "      <th></th>\n",
              "      <th></th>\n",
              "      <th></th>\n",
              "      <th></th>\n",
              "      <th></th>\n",
              "      <th></th>\n",
              "      <th></th>\n",
              "      <th></th>\n",
              "      <th></th>\n",
              "      <th></th>\n",
              "      <th></th>\n",
              "      <th></th>\n",
              "      <th></th>\n",
              "      <th></th>\n",
              "      <th></th>\n",
              "      <th></th>\n",
              "      <th></th>\n",
              "      <th></th>\n",
              "      <th></th>\n",
              "      <th></th>\n",
              "      <th></th>\n",
              "      <th></th>\n",
              "      <th></th>\n",
              "      <th></th>\n",
              "      <th></th>\n",
              "      <th></th>\n",
              "      <th></th>\n",
              "      <th></th>\n",
              "      <th></th>\n",
              "      <th></th>\n",
              "      <th></th>\n",
              "      <th></th>\n",
              "      <th></th>\n",
              "      <th></th>\n",
              "      <th></th>\n",
              "      <th></th>\n",
              "      <th></th>\n",
              "      <th></th>\n",
              "      <th></th>\n",
              "      <th></th>\n",
              "      <th></th>\n",
              "      <th></th>\n",
              "      <th></th>\n",
              "      <th></th>\n",
              "      <th></th>\n",
              "      <th></th>\n",
              "      <th></th>\n",
              "      <th></th>\n",
              "      <th></th>\n",
              "      <th></th>\n",
              "      <th></th>\n",
              "      <th></th>\n",
              "      <th></th>\n",
              "    </tr>\n",
              "  </thead>\n",
              "  <tbody>\n",
              "    <tr>\n",
              "      <th>1991</th>\n",
              "      <td>78</td>\n",
              "      <td>7518</td>\n",
              "      <td>0.0</td>\n",
              "      <td>205</td>\n",
              "      <td>0.0</td>\n",
              "      <td>2250</td>\n",
              "      <td>39053</td>\n",
              "      <td>0.0</td>\n",
              "      <td>0.0</td>\n",
              "      <td>0.0</td>\n",
              "      <td>5806</td>\n",
              "      <td>2441</td>\n",
              "      <td>16452</td>\n",
              "      <td>1021</td>\n",
              "      <td>11090</td>\n",
              "      <td>4249</td>\n",
              "      <td>347</td>\n",
              "      <td>0.0</td>\n",
              "      <td>0.0</td>\n",
              "      <td>0.0</td>\n",
              "      <td>0.0</td>\n",
              "      <td>0.0</td>\n",
              "      <td>1378</td>\n",
              "      <td>42784</td>\n",
              "      <td>23979</td>\n",
              "      <td>10944</td>\n",
              "      <td>0.0</td>\n",
              "      <td>0.0</td>\n",
              "      <td>0.0</td>\n",
              "      <td>42288</td>\n",
              "      <td>77211</td>\n",
              "      <td>0.0</td>\n",
              "      <td>0.0</td>\n",
              "      <td>0.0</td>\n",
              "      <td>0.0</td>\n",
              "      <td>1866</td>\n",
              "      <td>0.0</td>\n",
              "      <td>0.0</td>\n",
              "      <td>0.0</td>\n",
              "      <td>9890</td>\n",
              "      <td>0.0</td>\n",
              "      <td>0.0</td>\n",
              "      <td>0.0</td>\n",
              "      <td>0.0</td>\n",
              "      <td>0.0</td>\n",
              "      <td>0.0</td>\n",
              "      <td>1459</td>\n",
              "      <td>0.0</td>\n",
              "      <td>0.0</td>\n",
              "      <td>0.0</td>\n",
              "      <td>7723</td>\n",
              "      <td>15339</td>\n",
              "      <td>16452</td>\n",
              "      <td>0.0</td>\n",
              "      <td>36</td>\n",
              "    </tr>\n",
              "    <tr>\n",
              "      <th>1992</th>\n",
              "      <td>78</td>\n",
              "      <td>7635</td>\n",
              "      <td>0.0</td>\n",
              "      <td>288</td>\n",
              "      <td>0.0</td>\n",
              "      <td>1910</td>\n",
              "      <td>38489</td>\n",
              "      <td>0.0</td>\n",
              "      <td>0.0</td>\n",
              "      <td>0.0</td>\n",
              "      <td>5466</td>\n",
              "      <td>3080</td>\n",
              "      <td>24502</td>\n",
              "      <td>1936</td>\n",
              "      <td>10814</td>\n",
              "      <td>4810</td>\n",
              "      <td>227</td>\n",
              "      <td>0.0</td>\n",
              "      <td>0.0</td>\n",
              "      <td>0.0</td>\n",
              "      <td>0.0</td>\n",
              "      <td>0.0</td>\n",
              "      <td>1337</td>\n",
              "      <td>52172</td>\n",
              "      <td>27619</td>\n",
              "      <td>10402</td>\n",
              "      <td>0.0</td>\n",
              "      <td>0.0</td>\n",
              "      <td>0.0</td>\n",
              "      <td>44625</td>\n",
              "      <td>82646</td>\n",
              "      <td>0.0</td>\n",
              "      <td>0.0</td>\n",
              "      <td>0.0</td>\n",
              "      <td>0.0</td>\n",
              "      <td>2043</td>\n",
              "      <td>0.0</td>\n",
              "      <td>0.0</td>\n",
              "      <td>0.0</td>\n",
              "      <td>11246</td>\n",
              "      <td>0.0</td>\n",
              "      <td>0.0</td>\n",
              "      <td>0.0</td>\n",
              "      <td>0.0</td>\n",
              "      <td>0.0</td>\n",
              "      <td>0.0</td>\n",
              "      <td>849</td>\n",
              "      <td>0.0</td>\n",
              "      <td>0.0</td>\n",
              "      <td>0.0</td>\n",
              "      <td>7923</td>\n",
              "      <td>15624</td>\n",
              "      <td>24502</td>\n",
              "      <td>0.0</td>\n",
              "      <td>36</td>\n",
              "    </tr>\n",
              "    <tr>\n",
              "      <th>1993</th>\n",
              "      <td>78</td>\n",
              "      <td>7720</td>\n",
              "      <td>0.0</td>\n",
              "      <td>265</td>\n",
              "      <td>0.0</td>\n",
              "      <td>1741</td>\n",
              "      <td>37633</td>\n",
              "      <td>0.0</td>\n",
              "      <td>0.0</td>\n",
              "      <td>0.0</td>\n",
              "      <td>3639</td>\n",
              "      <td>2605</td>\n",
              "      <td>24790</td>\n",
              "      <td>1701</td>\n",
              "      <td>9780</td>\n",
              "      <td>4722</td>\n",
              "      <td>225</td>\n",
              "      <td>0.0</td>\n",
              "      <td>0.0</td>\n",
              "      <td>0.0</td>\n",
              "      <td>0.0</td>\n",
              "      <td>0.0</td>\n",
              "      <td>1487</td>\n",
              "      <td>48949</td>\n",
              "      <td>26897</td>\n",
              "      <td>7488</td>\n",
              "      <td>0.0</td>\n",
              "      <td>0.0</td>\n",
              "      <td>0.0</td>\n",
              "      <td>42283</td>\n",
              "      <td>76668</td>\n",
              "      <td>0.0</td>\n",
              "      <td>0.0</td>\n",
              "      <td>0.0</td>\n",
              "      <td>0.0</td>\n",
              "      <td>1749</td>\n",
              "      <td>0.0</td>\n",
              "      <td>0.0</td>\n",
              "      <td>0.0</td>\n",
              "      <td>11619</td>\n",
              "      <td>0.0</td>\n",
              "      <td>0.0</td>\n",
              "      <td>0.0</td>\n",
              "      <td>0.0</td>\n",
              "      <td>0.0</td>\n",
              "      <td>0.0</td>\n",
              "      <td>792</td>\n",
              "      <td>0.0</td>\n",
              "      <td>0.0</td>\n",
              "      <td>0.0</td>\n",
              "      <td>7985</td>\n",
              "      <td>14502</td>\n",
              "      <td>24790</td>\n",
              "      <td>0.0</td>\n",
              "      <td>36</td>\n",
              "    </tr>\n",
              "    <tr>\n",
              "      <th>1994</th>\n",
              "      <td>78</td>\n",
              "      <td>8408</td>\n",
              "      <td>0.0</td>\n",
              "      <td>223</td>\n",
              "      <td>0.0</td>\n",
              "      <td>1766</td>\n",
              "      <td>35697</td>\n",
              "      <td>0.0</td>\n",
              "      <td>0.0</td>\n",
              "      <td>0.0</td>\n",
              "      <td>4403</td>\n",
              "      <td>2273</td>\n",
              "      <td>27470</td>\n",
              "      <td>1386</td>\n",
              "      <td>11653</td>\n",
              "      <td>4759</td>\n",
              "      <td>310</td>\n",
              "      <td>0.0</td>\n",
              "      <td>0.0</td>\n",
              "      <td>0.0</td>\n",
              "      <td>0.0</td>\n",
              "      <td>0.0</td>\n",
              "      <td>1704</td>\n",
              "      <td>53958</td>\n",
              "      <td>26231</td>\n",
              "      <td>6917</td>\n",
              "      <td>0.0</td>\n",
              "      <td>0.0</td>\n",
              "      <td>0.0</td>\n",
              "      <td>36343</td>\n",
              "      <td>69491</td>\n",
              "      <td>0.0</td>\n",
              "      <td>0.0</td>\n",
              "      <td>0.0</td>\n",
              "      <td>0.0</td>\n",
              "      <td>1830</td>\n",
              "      <td>0.0</td>\n",
              "      <td>0.0</td>\n",
              "      <td>0.0</td>\n",
              "      <td>16030</td>\n",
              "      <td>0.0</td>\n",
              "      <td>0.0</td>\n",
              "      <td>0.0</td>\n",
              "      <td>0.0</td>\n",
              "      <td>0.0</td>\n",
              "      <td>0.0</td>\n",
              "      <td>913</td>\n",
              "      <td>0.0</td>\n",
              "      <td>0.0</td>\n",
              "      <td>0.0</td>\n",
              "      <td>8631</td>\n",
              "      <td>16412</td>\n",
              "      <td>27470</td>\n",
              "      <td>0.0</td>\n",
              "      <td>36</td>\n",
              "    </tr>\n",
              "    <tr>\n",
              "      <th>1995</th>\n",
              "      <td>78</td>\n",
              "      <td>8438</td>\n",
              "      <td>0.0</td>\n",
              "      <td>200</td>\n",
              "      <td>0.0</td>\n",
              "      <td>1944</td>\n",
              "      <td>38469</td>\n",
              "      <td>0.0</td>\n",
              "      <td>0.0</td>\n",
              "      <td>0.0</td>\n",
              "      <td>3886</td>\n",
              "      <td>1625</td>\n",
              "      <td>23676</td>\n",
              "      <td>1198</td>\n",
              "      <td>11381</td>\n",
              "      <td>5126</td>\n",
              "      <td>440</td>\n",
              "      <td>0.0</td>\n",
              "      <td>0.0</td>\n",
              "      <td>0.0</td>\n",
              "      <td>0.0</td>\n",
              "      <td>0.0</td>\n",
              "      <td>1939</td>\n",
              "      <td>49271</td>\n",
              "      <td>21928</td>\n",
              "      <td>6414</td>\n",
              "      <td>0.0</td>\n",
              "      <td>0.0</td>\n",
              "      <td>0.0</td>\n",
              "      <td>31644</td>\n",
              "      <td>59986</td>\n",
              "      <td>0.0</td>\n",
              "      <td>0.0</td>\n",
              "      <td>0.0</td>\n",
              "      <td>0.0</td>\n",
              "      <td>3508</td>\n",
              "      <td>0.0</td>\n",
              "      <td>0.0</td>\n",
              "      <td>0.0</td>\n",
              "      <td>17622</td>\n",
              "      <td>0.0</td>\n",
              "      <td>0.0</td>\n",
              "      <td>0.0</td>\n",
              "      <td>0.0</td>\n",
              "      <td>0.0</td>\n",
              "      <td>0.0</td>\n",
              "      <td>1133</td>\n",
              "      <td>0.0</td>\n",
              "      <td>0.0</td>\n",
              "      <td>0.0</td>\n",
              "      <td>8638</td>\n",
              "      <td>16507</td>\n",
              "      <td>23676</td>\n",
              "      <td>0.0</td>\n",
              "      <td>36</td>\n",
              "    </tr>\n",
              "  </tbody>\n",
              "</table>\n",
              "</div>"
            ],
            "text/plain": [
              "      mes  hom_doloso  ...  registro_ocorrencias  fase\n",
              "vano                   ...                            \n",
              "1991   78        7518  ...                   0.0    36\n",
              "1992   78        7635  ...                   0.0    36\n",
              "1993   78        7720  ...                   0.0    36\n",
              "1994   78        8408  ...                   0.0    36\n",
              "1995   78        8438  ...                   0.0    36\n",
              "\n",
              "[5 rows x 55 columns]"
            ]
          },
          "metadata": {
            "tags": []
          },
          "execution_count": 8
        }
      ]
    },
    {
      "cell_type": "markdown",
      "metadata": {
        "id": "ld7HFleaK12-"
      },
      "source": [
        "A partir dos valores agrupados por ano é possível se ter uma visualização consolidada. Desta forma nos permitirá a entender o comportamento das variáveis em relação aos períodos.\r\n",
        "\r\n",
        "A partir de agora, iremos elencar algumas variáveis e analisá-las individualmente."
      ]
    },
    {
      "cell_type": "markdown",
      "metadata": {
        "id": "ldFgT34bne64"
      },
      "source": [
        "## Analisando a Correlação de Dados Selecionados\r\n"
      ]
    },
    {
      "cell_type": "code",
      "metadata": {
        "colab": {
          "base_uri": "https://localhost:8080/",
          "height": 577
        },
        "id": "DFHTpqEwnpES",
        "outputId": "1d1af983-9621-4ff2-e6e6-73e669bee446"
      },
      "source": [
        "corr = df_year[[ 'latrocinio','hom_por_interv_policial', 'tentat_hom', 'lesao_corp_dolosa',\r\n",
        "                'estupro','hom_culposo', 'lesao_corp_culposa', 'sequestro',\r\n",
        "       'extorsao', 'sequestro_relampago', 'estelionato', 'apreensao_drogas',\r\n",
        "       'posse_drogas', 'trafico_drogas', 'apreensao_drogas_sem_autor',\r\n",
        "       'pol_militares_mortos_serv', 'pol_civis_mortos_serv']].corr()\r\n",
        "\r\n",
        "display(corr)"
      ],
      "execution_count": 9,
      "outputs": [
        {
          "output_type": "display_data",
          "data": {
            "text/html": [
              "<div>\n",
              "<style scoped>\n",
              "    .dataframe tbody tr th:only-of-type {\n",
              "        vertical-align: middle;\n",
              "    }\n",
              "\n",
              "    .dataframe tbody tr th {\n",
              "        vertical-align: top;\n",
              "    }\n",
              "\n",
              "    .dataframe thead th {\n",
              "        text-align: right;\n",
              "    }\n",
              "</style>\n",
              "<table border=\"1\" class=\"dataframe\">\n",
              "  <thead>\n",
              "    <tr style=\"text-align: right;\">\n",
              "      <th></th>\n",
              "      <th>latrocinio</th>\n",
              "      <th>hom_por_interv_policial</th>\n",
              "      <th>tentat_hom</th>\n",
              "      <th>lesao_corp_dolosa</th>\n",
              "      <th>estupro</th>\n",
              "      <th>hom_culposo</th>\n",
              "      <th>lesao_corp_culposa</th>\n",
              "      <th>sequestro</th>\n",
              "      <th>extorsao</th>\n",
              "      <th>sequestro_relampago</th>\n",
              "      <th>estelionato</th>\n",
              "      <th>apreensao_drogas</th>\n",
              "      <th>posse_drogas</th>\n",
              "      <th>trafico_drogas</th>\n",
              "      <th>apreensao_drogas_sem_autor</th>\n",
              "      <th>pol_militares_mortos_serv</th>\n",
              "      <th>pol_civis_mortos_serv</th>\n",
              "    </tr>\n",
              "  </thead>\n",
              "  <tbody>\n",
              "    <tr>\n",
              "      <th>latrocinio</th>\n",
              "      <td>1.000000</td>\n",
              "      <td>-0.045769</td>\n",
              "      <td>-0.179379</td>\n",
              "      <td>-0.210707</td>\n",
              "      <td>-0.266588</td>\n",
              "      <td>-0.218573</td>\n",
              "      <td>-0.133398</td>\n",
              "      <td>0.127989</td>\n",
              "      <td>-0.213251</td>\n",
              "      <td>-0.314397</td>\n",
              "      <td>-0.273351</td>\n",
              "      <td>-0.372293</td>\n",
              "      <td>-0.290372</td>\n",
              "      <td>-0.265627</td>\n",
              "      <td>-0.231536</td>\n",
              "      <td>0.038678</td>\n",
              "      <td>0.013351</td>\n",
              "    </tr>\n",
              "    <tr>\n",
              "      <th>hom_por_interv_policial</th>\n",
              "      <td>-0.045769</td>\n",
              "      <td>1.000000</td>\n",
              "      <td>0.689503</td>\n",
              "      <td>0.542398</td>\n",
              "      <td>0.604550</td>\n",
              "      <td>0.553010</td>\n",
              "      <td>0.540585</td>\n",
              "      <td>0.529160</td>\n",
              "      <td>0.615985</td>\n",
              "      <td>0.466604</td>\n",
              "      <td>0.582829</td>\n",
              "      <td>0.497403</td>\n",
              "      <td>0.373410</td>\n",
              "      <td>0.417771</td>\n",
              "      <td>0.463978</td>\n",
              "      <td>0.756211</td>\n",
              "      <td>0.612763</td>\n",
              "    </tr>\n",
              "    <tr>\n",
              "      <th>tentat_hom</th>\n",
              "      <td>-0.179379</td>\n",
              "      <td>0.689503</td>\n",
              "      <td>1.000000</td>\n",
              "      <td>0.689381</td>\n",
              "      <td>0.881086</td>\n",
              "      <td>0.396306</td>\n",
              "      <td>0.588835</td>\n",
              "      <td>0.418700</td>\n",
              "      <td>0.810431</td>\n",
              "      <td>0.839963</td>\n",
              "      <td>0.902007</td>\n",
              "      <td>0.916124</td>\n",
              "      <td>0.870246</td>\n",
              "      <td>0.882024</td>\n",
              "      <td>0.820454</td>\n",
              "      <td>0.680127</td>\n",
              "      <td>0.441938</td>\n",
              "    </tr>\n",
              "    <tr>\n",
              "      <th>lesao_corp_dolosa</th>\n",
              "      <td>-0.210707</td>\n",
              "      <td>0.542398</td>\n",
              "      <td>0.689381</td>\n",
              "      <td>1.000000</td>\n",
              "      <td>0.695374</td>\n",
              "      <td>0.729518</td>\n",
              "      <td>0.891421</td>\n",
              "      <td>0.636066</td>\n",
              "      <td>0.704668</td>\n",
              "      <td>0.667007</td>\n",
              "      <td>0.625975</td>\n",
              "      <td>0.661515</td>\n",
              "      <td>0.510861</td>\n",
              "      <td>0.453009</td>\n",
              "      <td>0.592542</td>\n",
              "      <td>0.512069</td>\n",
              "      <td>0.554032</td>\n",
              "    </tr>\n",
              "    <tr>\n",
              "      <th>estupro</th>\n",
              "      <td>-0.266588</td>\n",
              "      <td>0.604550</td>\n",
              "      <td>0.881086</td>\n",
              "      <td>0.695374</td>\n",
              "      <td>1.000000</td>\n",
              "      <td>0.330122</td>\n",
              "      <td>0.547040</td>\n",
              "      <td>0.295125</td>\n",
              "      <td>0.942246</td>\n",
              "      <td>0.939923</td>\n",
              "      <td>0.978403</td>\n",
              "      <td>0.788080</td>\n",
              "      <td>0.865132</td>\n",
              "      <td>0.864720</td>\n",
              "      <td>0.889238</td>\n",
              "      <td>0.670040</td>\n",
              "      <td>0.582015</td>\n",
              "    </tr>\n",
              "    <tr>\n",
              "      <th>hom_culposo</th>\n",
              "      <td>-0.218573</td>\n",
              "      <td>0.553010</td>\n",
              "      <td>0.396306</td>\n",
              "      <td>0.729518</td>\n",
              "      <td>0.330122</td>\n",
              "      <td>1.000000</td>\n",
              "      <td>0.705391</td>\n",
              "      <td>0.443181</td>\n",
              "      <td>0.367168</td>\n",
              "      <td>0.290807</td>\n",
              "      <td>0.282966</td>\n",
              "      <td>0.442549</td>\n",
              "      <td>0.166334</td>\n",
              "      <td>0.148817</td>\n",
              "      <td>0.257012</td>\n",
              "      <td>0.323980</td>\n",
              "      <td>0.378630</td>\n",
              "    </tr>\n",
              "    <tr>\n",
              "      <th>lesao_corp_culposa</th>\n",
              "      <td>-0.133398</td>\n",
              "      <td>0.540585</td>\n",
              "      <td>0.588835</td>\n",
              "      <td>0.891421</td>\n",
              "      <td>0.547040</td>\n",
              "      <td>0.705391</td>\n",
              "      <td>1.000000</td>\n",
              "      <td>0.593695</td>\n",
              "      <td>0.546735</td>\n",
              "      <td>0.509378</td>\n",
              "      <td>0.504125</td>\n",
              "      <td>0.564933</td>\n",
              "      <td>0.408089</td>\n",
              "      <td>0.371309</td>\n",
              "      <td>0.469839</td>\n",
              "      <td>0.416580</td>\n",
              "      <td>0.416138</td>\n",
              "    </tr>\n",
              "    <tr>\n",
              "      <th>sequestro</th>\n",
              "      <td>0.127989</td>\n",
              "      <td>0.529160</td>\n",
              "      <td>0.418700</td>\n",
              "      <td>0.636066</td>\n",
              "      <td>0.295125</td>\n",
              "      <td>0.443181</td>\n",
              "      <td>0.593695</td>\n",
              "      <td>1.000000</td>\n",
              "      <td>0.305073</td>\n",
              "      <td>0.202666</td>\n",
              "      <td>0.230448</td>\n",
              "      <td>0.296933</td>\n",
              "      <td>0.071768</td>\n",
              "      <td>0.084178</td>\n",
              "      <td>0.124257</td>\n",
              "      <td>0.429338</td>\n",
              "      <td>0.416115</td>\n",
              "    </tr>\n",
              "    <tr>\n",
              "      <th>extorsao</th>\n",
              "      <td>-0.213251</td>\n",
              "      <td>0.615985</td>\n",
              "      <td>0.810431</td>\n",
              "      <td>0.704668</td>\n",
              "      <td>0.942246</td>\n",
              "      <td>0.367168</td>\n",
              "      <td>0.546735</td>\n",
              "      <td>0.305073</td>\n",
              "      <td>1.000000</td>\n",
              "      <td>0.927880</td>\n",
              "      <td>0.912598</td>\n",
              "      <td>0.707373</td>\n",
              "      <td>0.775483</td>\n",
              "      <td>0.750781</td>\n",
              "      <td>0.821954</td>\n",
              "      <td>0.675615</td>\n",
              "      <td>0.615591</td>\n",
              "    </tr>\n",
              "    <tr>\n",
              "      <th>sequestro_relampago</th>\n",
              "      <td>-0.314397</td>\n",
              "      <td>0.466604</td>\n",
              "      <td>0.839963</td>\n",
              "      <td>0.667007</td>\n",
              "      <td>0.939923</td>\n",
              "      <td>0.290807</td>\n",
              "      <td>0.509378</td>\n",
              "      <td>0.202666</td>\n",
              "      <td>0.927880</td>\n",
              "      <td>1.000000</td>\n",
              "      <td>0.916137</td>\n",
              "      <td>0.782364</td>\n",
              "      <td>0.861314</td>\n",
              "      <td>0.838662</td>\n",
              "      <td>0.849195</td>\n",
              "      <td>0.502895</td>\n",
              "      <td>0.496550</td>\n",
              "    </tr>\n",
              "    <tr>\n",
              "      <th>estelionato</th>\n",
              "      <td>-0.273351</td>\n",
              "      <td>0.582829</td>\n",
              "      <td>0.902007</td>\n",
              "      <td>0.625975</td>\n",
              "      <td>0.978403</td>\n",
              "      <td>0.282966</td>\n",
              "      <td>0.504125</td>\n",
              "      <td>0.230448</td>\n",
              "      <td>0.912598</td>\n",
              "      <td>0.916137</td>\n",
              "      <td>1.000000</td>\n",
              "      <td>0.830303</td>\n",
              "      <td>0.931105</td>\n",
              "      <td>0.933490</td>\n",
              "      <td>0.927395</td>\n",
              "      <td>0.626031</td>\n",
              "      <td>0.502359</td>\n",
              "    </tr>\n",
              "    <tr>\n",
              "      <th>apreensao_drogas</th>\n",
              "      <td>-0.372293</td>\n",
              "      <td>0.497403</td>\n",
              "      <td>0.916124</td>\n",
              "      <td>0.661515</td>\n",
              "      <td>0.788080</td>\n",
              "      <td>0.442549</td>\n",
              "      <td>0.564933</td>\n",
              "      <td>0.296933</td>\n",
              "      <td>0.707373</td>\n",
              "      <td>0.782364</td>\n",
              "      <td>0.830303</td>\n",
              "      <td>1.000000</td>\n",
              "      <td>0.867962</td>\n",
              "      <td>0.867556</td>\n",
              "      <td>0.741804</td>\n",
              "      <td>0.525728</td>\n",
              "      <td>0.235274</td>\n",
              "    </tr>\n",
              "    <tr>\n",
              "      <th>posse_drogas</th>\n",
              "      <td>-0.290372</td>\n",
              "      <td>0.373410</td>\n",
              "      <td>0.870246</td>\n",
              "      <td>0.510861</td>\n",
              "      <td>0.865132</td>\n",
              "      <td>0.166334</td>\n",
              "      <td>0.408089</td>\n",
              "      <td>0.071768</td>\n",
              "      <td>0.775483</td>\n",
              "      <td>0.861314</td>\n",
              "      <td>0.931105</td>\n",
              "      <td>0.867962</td>\n",
              "      <td>1.000000</td>\n",
              "      <td>0.981872</td>\n",
              "      <td>0.935195</td>\n",
              "      <td>0.432787</td>\n",
              "      <td>0.240725</td>\n",
              "    </tr>\n",
              "    <tr>\n",
              "      <th>trafico_drogas</th>\n",
              "      <td>-0.265627</td>\n",
              "      <td>0.417771</td>\n",
              "      <td>0.882024</td>\n",
              "      <td>0.453009</td>\n",
              "      <td>0.864720</td>\n",
              "      <td>0.148817</td>\n",
              "      <td>0.371309</td>\n",
              "      <td>0.084178</td>\n",
              "      <td>0.750781</td>\n",
              "      <td>0.838662</td>\n",
              "      <td>0.933490</td>\n",
              "      <td>0.867556</td>\n",
              "      <td>0.981872</td>\n",
              "      <td>1.000000</td>\n",
              "      <td>0.904172</td>\n",
              "      <td>0.453253</td>\n",
              "      <td>0.259721</td>\n",
              "    </tr>\n",
              "    <tr>\n",
              "      <th>apreensao_drogas_sem_autor</th>\n",
              "      <td>-0.231536</td>\n",
              "      <td>0.463978</td>\n",
              "      <td>0.820454</td>\n",
              "      <td>0.592542</td>\n",
              "      <td>0.889238</td>\n",
              "      <td>0.257012</td>\n",
              "      <td>0.469839</td>\n",
              "      <td>0.124257</td>\n",
              "      <td>0.821954</td>\n",
              "      <td>0.849195</td>\n",
              "      <td>0.927395</td>\n",
              "      <td>0.741804</td>\n",
              "      <td>0.935195</td>\n",
              "      <td>0.904172</td>\n",
              "      <td>1.000000</td>\n",
              "      <td>0.457717</td>\n",
              "      <td>0.407563</td>\n",
              "    </tr>\n",
              "    <tr>\n",
              "      <th>pol_militares_mortos_serv</th>\n",
              "      <td>0.038678</td>\n",
              "      <td>0.756211</td>\n",
              "      <td>0.680127</td>\n",
              "      <td>0.512069</td>\n",
              "      <td>0.670040</td>\n",
              "      <td>0.323980</td>\n",
              "      <td>0.416580</td>\n",
              "      <td>0.429338</td>\n",
              "      <td>0.675615</td>\n",
              "      <td>0.502895</td>\n",
              "      <td>0.626031</td>\n",
              "      <td>0.525728</td>\n",
              "      <td>0.432787</td>\n",
              "      <td>0.453253</td>\n",
              "      <td>0.457717</td>\n",
              "      <td>1.000000</td>\n",
              "      <td>0.524866</td>\n",
              "    </tr>\n",
              "    <tr>\n",
              "      <th>pol_civis_mortos_serv</th>\n",
              "      <td>0.013351</td>\n",
              "      <td>0.612763</td>\n",
              "      <td>0.441938</td>\n",
              "      <td>0.554032</td>\n",
              "      <td>0.582015</td>\n",
              "      <td>0.378630</td>\n",
              "      <td>0.416138</td>\n",
              "      <td>0.416115</td>\n",
              "      <td>0.615591</td>\n",
              "      <td>0.496550</td>\n",
              "      <td>0.502359</td>\n",
              "      <td>0.235274</td>\n",
              "      <td>0.240725</td>\n",
              "      <td>0.259721</td>\n",
              "      <td>0.407563</td>\n",
              "      <td>0.524866</td>\n",
              "      <td>1.000000</td>\n",
              "    </tr>\n",
              "  </tbody>\n",
              "</table>\n",
              "</div>"
            ],
            "text/plain": [
              "                            latrocinio  ...  pol_civis_mortos_serv\n",
              "latrocinio                    1.000000  ...               0.013351\n",
              "hom_por_interv_policial      -0.045769  ...               0.612763\n",
              "tentat_hom                   -0.179379  ...               0.441938\n",
              "lesao_corp_dolosa            -0.210707  ...               0.554032\n",
              "estupro                      -0.266588  ...               0.582015\n",
              "hom_culposo                  -0.218573  ...               0.378630\n",
              "lesao_corp_culposa           -0.133398  ...               0.416138\n",
              "sequestro                     0.127989  ...               0.416115\n",
              "extorsao                     -0.213251  ...               0.615591\n",
              "sequestro_relampago          -0.314397  ...               0.496550\n",
              "estelionato                  -0.273351  ...               0.502359\n",
              "apreensao_drogas             -0.372293  ...               0.235274\n",
              "posse_drogas                 -0.290372  ...               0.240725\n",
              "trafico_drogas               -0.265627  ...               0.259721\n",
              "apreensao_drogas_sem_autor   -0.231536  ...               0.407563\n",
              "pol_militares_mortos_serv     0.038678  ...               0.524866\n",
              "pol_civis_mortos_serv         0.013351  ...               1.000000\n",
              "\n",
              "[17 rows x 17 columns]"
            ]
          },
          "metadata": {
            "tags": []
          }
        }
      ]
    },
    {
      "cell_type": "code",
      "metadata": {
        "colab": {
          "base_uri": "https://localhost:8080/",
          "height": 843
        },
        "id": "Mgjy1078nLvu",
        "outputId": "7651ae22-a883-4760-c6b4-d89e709c4a2d"
      },
      "source": [
        "plt.figure(figsize=(15,12))\r\n",
        "sns.heatmap(corr, cmap='YlGnBu', fmt='.2f', square=False, linecolor='white', annot=True);\r\n"
      ],
      "execution_count": 29,
      "outputs": [
        {
          "output_type": "display_data",
          "data": {
            "image/png": "[encoded data removed]",
            "text/plain": [
              "<Figure size 1080x864 with 2 Axes>"
            ]
          },
          "metadata": {
            "tags": [],
            "needs_background": "light"
          }
        }
      ]
    },
    {
      "cell_type": "markdown",
      "metadata": {
        "id": "h_tlSdwpvN19"
      },
      "source": [
        "Após a seleção de algumas variáveis identificamos algumas correlações entre elas. É interessante perceber como variáveis de categorias similares estão com correlação alta, como o caso das drogas. \r\n",
        "\r\n",
        "Uma informação interessante também é o fato de termos identificado uma correlação alta entre `pol_militares_mortos_serv` e `hom_por_interv_policial`. Isso pode significar um ciclo de resposta de ações?\r\n",
        "\r\n",
        "Uma das duvidas que a apresentação do gráfico de calor gerou é se o mesmo evento pode ser enquadrado em mais de uma variável em relação ao dataset. Eu acredito que sim, pois existe uma série de correlações entre crimes de natureza próximas."
      ]
    },
    {
      "cell_type": "markdown",
      "metadata": {
        "id": "M07AwmjyL1_L"
      },
      "source": [
        "##Análise de Variáveis Individual"
      ]
    },
    {
      "cell_type": "markdown",
      "metadata": {
        "id": "aa0kp9ryalsP"
      },
      "source": [
        "### A Escalada da Guerra \r\n",
        "\r\n",
        "Homícidio por Intervenção Policial:"
      ]
    },
    {
      "cell_type": "code",
      "metadata": {
        "colab": {
          "base_uri": "https://localhost:8080/",
          "height": 374
        },
        "id": "kJSFugnVXOuz",
        "outputId": "435ca6dd-3177-4a39-ec4a-e0d3a2e1eb87"
      },
      "source": [
        "df_year.plot(y='hom_por_interv_policial',kind='barh', legend=False, figsize=(8,6));"
      ],
      "execution_count": 11,
      "outputs": [
        {
          "output_type": "display_data",
          "data": {
            "image/png": "[encoded data removed]",
            "text/plain": [
              "<Figure size 576x432 with 1 Axes>"
            ]
          },
          "metadata": {
            "tags": [],
            "needs_background": "light"
          }
        }
      ]
    },
    {
      "cell_type": "markdown",
      "metadata": {
        "id": "llzRK08IL-Bn"
      },
      "source": [
        "Com a disposição dos dados é possível verificar que existe uma crescente taxa de homícidos por intervenção policial, alguns fatos interssante marcaram o ínicio do século 21 e podem estar ligados aos aumentos demonstrados.\r\n",
        "\r\n",
        "As inferências aqui são meras suposições de fatos que podem ter ajudado a contribuir com os picos, que são:\r\n",
        "\r\n",
        "* 2003: Alteração de partido na gestão do governo do estado;\r\n",
        "* 2007: Visita do Papa ao Brasil;\r\n",
        "* 2014: Copa do Mundo;\r\n",
        "* 2016: Olímpiadas no Brasil - sede Rio de Janeiro;\r\n",
        "* 2018: Intervenção federal no estado decretada;"
      ]
    },
    {
      "cell_type": "markdown",
      "metadata": {
        "id": "KkHk4nwklodC"
      },
      "source": [
        "### Famílias Desfalcadas\r\n",
        "\r\n",
        "Policiais Civis e Militares mortos em serviço no período:"
      ]
    },
    {
      "cell_type": "code",
      "metadata": {
        "colab": {
          "base_uri": "https://localhost:8080/"
        },
        "id": "HL8xTfa2G1ou",
        "outputId": "49fd3d78-439d-40e9-da81-4e96ed66ea02"
      },
      "source": [
        "print(f'Numero total de Policiais Militares mortos:',df_year.pol_militares_mortos_serv.sum())\r\n",
        "  \r\n",
        "print(f'Numero total de Policiais Civis mortos:',df_year.pol_civis_mortos_serv.sum())"
      ],
      "execution_count": 12,
      "outputs": [
        {
          "output_type": "stream",
          "text": [
            "Numero total de Policiais Militares mortos: 417.0\n",
            "Numero total de Policiais Civis mortos: 68.0\n"
          ],
          "name": "stdout"
        }
      ]
    },
    {
      "cell_type": "code",
      "metadata": {
        "colab": {
          "base_uri": "https://localhost:8080/",
          "height": 390
        },
        "id": "4eSY0Zwxl5ar",
        "outputId": "ea575539-4fa4-4dd9-f892-cc1649682d4d"
      },
      "source": [
        "df_year.plot(y='pol_civis_mortos_serv',kind='barh', legend=False, figsize=(8,6), title='Policiais Civis Mortos em Serviço');"
      ],
      "execution_count": 13,
      "outputs": [
        {
          "output_type": "display_data",
          "data": {
            "image/png": "[encoded data removed]",
            "text/plain": [
              "<Figure size 576x432 with 1 Axes>"
            ]
          },
          "metadata": {
            "tags": [],
            "needs_background": "light"
          }
        }
      ]
    },
    {
      "cell_type": "code",
      "metadata": {
        "colab": {
          "base_uri": "https://localhost:8080/",
          "height": 390
        },
        "id": "gqm-9Nq9mQJp",
        "outputId": "cd97c0b5-75fd-4e78-ac81-026d4b2ab12b"
      },
      "source": [
        "df_year.plot(y='pol_militares_mortos_serv',kind='barh', legend=False, figsize=(8,6), title='Policiais Militares Mortos em Serviço');"
      ],
      "execution_count": 14,
      "outputs": [
        {
          "output_type": "display_data",
          "data": {
            "image/png": "[encoded data removed]",
            "text/plain": [
              "<Figure size 576x432 with 1 Axes>"
            ]
          },
          "metadata": {
            "tags": [],
            "needs_background": "light"
          }
        }
      ]
    },
    {
      "cell_type": "markdown",
      "metadata": {
        "id": "GHpOFOipG01P"
      },
      "source": [
        "### Crimes com Véiculos\r\n",
        "\r\n"
      ]
    },
    {
      "cell_type": "markdown",
      "metadata": {
        "id": "w3nmICAWLFFu"
      },
      "source": [
        "Furto de Veículos:"
      ]
    },
    {
      "cell_type": "code",
      "metadata": {
        "colab": {
          "base_uri": "https://localhost:8080/"
        },
        "id": "L_jfjei_J-MO",
        "outputId": "80163361-1b1e-49e5-d503-6b5f092e6374"
      },
      "source": [
        "print(f'Numero total de Furto de Veículos:',df_year.furto_veiculos.sum())"
      ],
      "execution_count": 15,
      "outputs": [
        {
          "output_type": "stream",
          "text": [
            "Numero total de Furto de Veículos: 576087\n"
          ],
          "name": "stdout"
        }
      ]
    },
    {
      "cell_type": "markdown",
      "metadata": {
        "id": "S5rd_djoKLXv"
      },
      "source": [
        "Roubo de Veículos:"
      ]
    },
    {
      "cell_type": "code",
      "metadata": {
        "colab": {
          "base_uri": "https://localhost:8080/"
        },
        "id": "55_CrQtPKQZc",
        "outputId": "4cbd3868-46d9-4e90-d6cb-ad533e42391b"
      },
      "source": [
        "print(f'Numero total de Roubo de Veículos:',df_year.roubo_veiculo.sum())"
      ],
      "execution_count": 16,
      "outputs": [
        {
          "output_type": "stream",
          "text": [
            "Numero total de Roubo de Veículos: 842352\n"
          ],
          "name": "stdout"
        }
      ]
    },
    {
      "cell_type": "markdown",
      "metadata": {
        "id": "1kddnD2YK4sJ"
      },
      "source": [
        "Número de Veículos Recuperados:"
      ]
    },
    {
      "cell_type": "code",
      "metadata": {
        "colab": {
          "base_uri": "https://localhost:8080/"
        },
        "id": "XKdPw3gwLKgW",
        "outputId": "9330ba23-9e35-48a5-81e1-5e594ae6fb25"
      },
      "source": [
        "print(f'Numero total de Veículos Recuperados:',df_year.recuperacao_veiculos.sum())      "
      ],
      "execution_count": 17,
      "outputs": [
        {
          "output_type": "stream",
          "text": [
            "Numero total de Veículos Recuperados: 609650\n"
          ],
          "name": "stdout"
        }
      ]
    },
    {
      "cell_type": "markdown",
      "metadata": {
        "id": "345YhgSFLVjk"
      },
      "source": [
        "Taxa de Recuperação de Veículos Furtados e Roubados:\r\n"
      ]
    },
    {
      "cell_type": "code",
      "metadata": {
        "colab": {
          "base_uri": "https://localhost:8080/"
        },
        "id": "e44byI8xLdOr",
        "outputId": "609fa0cf-9614-4106-b3b3-4d4bd9cf5e09"
      },
      "source": [
        "round(df_year.recuperacao_veiculos.sum()/((df_year.roubo_veiculo.sum())+(df_year.furto_veiculos.sum())),2)"
      ],
      "execution_count": 18,
      "outputs": [
        {
          "output_type": "execute_result",
          "data": {
            "text/plain": [
              "0.43"
            ]
          },
          "metadata": {
            "tags": []
          },
          "execution_count": 18
        }
      ]
    },
    {
      "cell_type": "markdown",
      "metadata": {
        "id": "dsL0k6zhbsL2"
      },
      "source": [
        "O percentual de veículos recuperados em relação aos roubados e furtados no período é de aproximadamente 43%."
      ]
    },
    {
      "cell_type": "markdown",
      "metadata": {
        "id": "uBWhPOePfqxq"
      },
      "source": [
        "### Homicídios\r\n"
      ]
    },
    {
      "cell_type": "markdown",
      "metadata": {
        "id": "HjBiPM8mH_g5"
      },
      "source": [
        "Distribuição de Homícidios Dolosos no período:"
      ]
    },
    {
      "cell_type": "code",
      "metadata": {
        "colab": {
          "base_uri": "https://localhost:8080/",
          "height": 390
        },
        "id": "KRwbSwobH7xm",
        "outputId": "f66b65ab-aa08-409c-9622-6ab1bbcd9793"
      },
      "source": [
        "df_year.plot(y='hom_doloso',kind='barh', legend=False, figsize=(8,6), title='Homicídios Dolosos');"
      ],
      "execution_count": 19,
      "outputs": [
        {
          "output_type": "display_data",
          "data": {
            "image/png": "[encoded data removed]",
            "text/plain": [
              "<Figure size 576x432 with 1 Axes>"
            ]
          },
          "metadata": {
            "tags": [],
            "needs_background": "light"
          }
        }
      ]
    },
    {
      "cell_type": "markdown",
      "metadata": {
        "id": "r3hx2U_DIMVW"
      },
      "source": [
        "Distribuição de Homícidios Culposos no período:"
      ]
    },
    {
      "cell_type": "code",
      "metadata": {
        "colab": {
          "base_uri": "https://localhost:8080/",
          "height": 390
        },
        "id": "YmRCLfatIQC9",
        "outputId": "d3222ac9-64a2-4f3e-9578-85c72ec9b5c6"
      },
      "source": [
        "df_year.plot(y='hom_culposo',kind='barh', legend=False, figsize=(8,6), title='Homícidios Culposos');"
      ],
      "execution_count": 20,
      "outputs": [
        {
          "output_type": "display_data",
          "data": {
            "image/png": "[encoded data removed]",
            "text/plain": [
              "<Figure size 576x432 with 1 Axes>"
            ]
          },
          "metadata": {
            "tags": [],
            "needs_background": "light"
          }
        }
      ]
    },
    {
      "cell_type": "markdown",
      "metadata": {
        "id": "qDHQ70SjIr1J"
      },
      "source": [
        "Média de Homícidios por Ano:"
      ]
    },
    {
      "cell_type": "code",
      "metadata": {
        "colab": {
          "base_uri": "https://localhost:8080/"
        },
        "id": "UM5vBak9Ix9O",
        "outputId": "8daa5e1d-9e63-43e3-b5f2-18f22c1560a8"
      },
      "source": [
        "print(f'Média de Homicídio Culposo por ano:',round(df_year.hom_culposo.mean()))\r\n",
        "print(f'Média de Homicídio Doloso por ano:',round(df_year.hom_doloso.mean()))"
      ],
      "execution_count": 21,
      "outputs": [
        {
          "output_type": "stream",
          "text": [
            "Média de Homicídio Culposo por ano: 1902\n",
            "Média de Homicídio Doloso por ano: 5985\n"
          ],
          "name": "stdout"
        }
      ]
    },
    {
      "cell_type": "markdown",
      "metadata": {
        "id": "pnPBzxgHLSKG"
      },
      "source": [
        "Total de Homicídios no Período Analisado:"
      ]
    },
    {
      "cell_type": "code",
      "metadata": {
        "colab": {
          "base_uri": "https://localhost:8080/"
        },
        "id": "aBq55DixLRbb",
        "outputId": "0079a90e-5a55-4977-c824-a2db50e2d856"
      },
      "source": [
        "culp = df_year.hom_culposo.sum()\r\n",
        "dolo = df_year.hom_doloso.sum()\r\n",
        "total = culp + dolo\r\n",
        "print(f'Total de Homícidios Culposo:', culp)\r\n",
        "print(f'Total de Homícidios Doloso:', dolo)\r\n",
        "print(f'Total de Homícidios(Culposo+Doloso):', total)"
      ],
      "execution_count": 22,
      "outputs": [
        {
          "output_type": "stream",
          "text": [
            "Total de Homícidios Culposo: 55151.0\n",
            "Total de Homícidios Doloso: 173567\n",
            "Total de Homícidios(Culposo+Doloso): 228718.0\n"
          ],
          "name": "stdout"
        }
      ]
    },
    {
      "cell_type": "markdown",
      "metadata": {
        "id": "YI86pt0-Kcnp"
      },
      "source": [
        "Em relação aos homicídios, embora haja um comportamento de queda observavel nos gráficos parecendo ser uma questão que tende a melhorar, ao observar os totais identifiscamos como os número são assustadores.\r\n",
        "\r\n",
        "Por exemplo, se compararmos com a [Guerra do Afeganisão](https://pt.wikipedia.org/wiki/Guerra_do_Afeganist%C3%A3o_(2001%E2%80%93presente)#:~:text=Entre%202001%20e%202015%2C%20cerca,Estados%20Unidos%20em%20sua%20hist%C3%B3ria.) onde os números são de 149.000 óbitos, este é o conflito mais longo na história dos Estados Unidos, contra 228.718 óbitos somente na cidade do Rio de Janeiro."
      ]
    },
    {
      "cell_type": "markdown",
      "metadata": {
        "id": "6Idw96qNbfr3"
      },
      "source": [
        "### Tráfico de Drogas"
      ]
    },
    {
      "cell_type": "markdown",
      "metadata": {
        "id": "HflxldLcblTh"
      },
      "source": [
        "Aqui analisamos os números de crimes relacionados ao tráfico de drogas na cidade do Rio de Janeiro.\r\n",
        "\r\n",
        "Foram selecionadas as seguintes variáveis para análise:\r\n",
        "\r\n",
        "* `apreensao_drogas`\r\n",
        "* `posse_drogas`\r\n",
        "* `trafico_drogas`\r\n",
        "* `apreensao_drogas_sem_autor`"
      ]
    },
    {
      "cell_type": "code",
      "metadata": {
        "colab": {
          "base_uri": "https://localhost:8080/",
          "height": 387
        },
        "id": "rNsUl1C9bmPy",
        "outputId": "925f8ef0-0ea4-472f-e95e-fe75e961b854"
      },
      "source": [
        "sel = ['apreensao_drogas','posse_drogas', 'trafico_drogas', 'apreensao_drogas_sem_autor']\r\n",
        "df_year.plot(y = sel, kind='line', figsize=(8,6));"
      ],
      "execution_count": 23,
      "outputs": [
        {
          "output_type": "display_data",
          "data": {
            "image/png": "[encoded data removed]",
            "text/plain": [
              "<Figure size 576x432 with 1 Axes>"
            ]
          },
          "metadata": {
            "tags": [],
            "needs_background": "light"
          }
        }
      ]
    },
    {
      "cell_type": "markdown",
      "metadata": {
        "id": "i9a_SVf_f5lf"
      },
      "source": [
        "Pode-se observar que o pico dos números de crimes relacionados ao tráfico de drogas foi o ano de 2015, ultrapassando a marca de 25.000 ocorrências somente com apreensões de drogas.\r\n",
        "\r\n",
        "As aprensões estiveram acima dos outros tipos de crimes em todo o período.\r\n",
        "\r\n",
        "Nota-se também que as variáveis `posse_drogas`, `trafico_drogas` e `aprensao_drogas_sem_autor` iniciaram a ser computadas no ano de 2015.\r\n"
      ]
    },
    {
      "cell_type": "markdown",
      "metadata": {
        "id": "uL-ULpr1hDzp"
      },
      "source": [
        "##Conclusão\r\n",
        "\r\n",
        "A partir do presente dataset pode-se analisar a distribuição dos dados de violência do período de 1991 a 2019 na cidade do Rio de Janeiro.\r\n",
        "\r\n",
        "Observamos aqui principalmente números em relação à escalada da guerra: polícia x bandidos, números de policiais civis e militares mortos em trabalho, crimes relacionados à veiculos, homicídos e tráfico de drogas.\r\n",
        "\r\n",
        "<br>\r\n",
        "\r\n",
        "Uma conclusão triste porém realista é que estamos longe de estar vivenciando o melhor momento nos números em relação a violência na cidade do Rio de Janeiro.\r\n",
        "\r\n",
        "<br>\r\n",
        "\r\n",
        "Adicionalmente, o dataframe selecionado nos permitiu ainda a explorar os conteúdos das bibliotecas pandas, matplotlib e seaborn.\r\n",
        "\r\n",
        "Espero que tenham gostado e se quiserem deixem feedbacks!\r\n",
        "\r\n",
        "\r\n",
        "<center>\r\n",
        "\r\n",
        " [Linkedin](https://www.linkedin.com/in/renan-marin-b3158173/) \r\n",
        "\r\n",
        "[Github](https://github.com/rnmarin)\r\n",
        "\r\n",
        "<br>\r\n"
      ]
    }
  ]
}